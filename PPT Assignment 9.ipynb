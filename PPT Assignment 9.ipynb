{
 "cells": [
  {
   "cell_type": "code",
   "execution_count": 9,
   "id": "4dd83107-5e50-45db-b4c5-9f4a747343d9",
   "metadata": {},
   "outputs": [
    {
     "data": {
      "text/plain": [
       "False"
      ]
     },
     "execution_count": 9,
     "metadata": {},
     "output_type": "execute_result"
    }
   ],
   "source": [
    "#Ans1\n",
    "def isPowerOfTwo(n):\n",
    "    if n == 1:\n",
    "        return True\n",
    "    elif n <= 0 or n % 2 != 0:\n",
    "        return False\n",
    "    else:\n",
    "        return isPowerOfTwo(n // 2)\n",
    "n = 13\n",
    "isPowerOfTwo(n)"
   ]
  },
  {
   "cell_type": "code",
   "execution_count": 10,
   "id": "6bb53a45-763b-4bd2-a530-181c2acc127f",
   "metadata": {},
   "outputs": [
    {
     "data": {
      "text/plain": [
       "6"
      ]
     },
     "execution_count": 10,
     "metadata": {},
     "output_type": "execute_result"
    }
   ],
   "source": [
    "#Ans2\n",
    "def sumOfNaturalNumbers(n):\n",
    "    if n == 0:\n",
    "        return 0\n",
    "    else:\n",
    "        return n + sumOfNaturalNumbers(n - 1)\n",
    "n = 3\n",
    "sumOfNaturalNumbers(n)"
   ]
  },
  {
   "cell_type": "code",
   "execution_count": 11,
   "id": "0ad9b064-046f-429b-a8f8-18b6037e7665",
   "metadata": {},
   "outputs": [
    {
     "data": {
      "text/plain": [
       "24"
      ]
     },
     "execution_count": 11,
     "metadata": {},
     "output_type": "execute_result"
    }
   ],
   "source": [
    "#Ans3\n",
    "def factorial(N):\n",
    "    if N == 0:\n",
    "        return 1\n",
    "    else:\n",
    "        return N * factorial(N - 1)\n",
    "N = 4\n",
    "factorial(N)"
   ]
  },
  {
   "cell_type": "code",
   "execution_count": 12,
   "id": "b5643a86-4e50-449a-8be3-a99915511a02",
   "metadata": {},
   "outputs": [
    {
     "data": {
      "text/plain": [
       "25"
      ]
     },
     "execution_count": 12,
     "metadata": {},
     "output_type": "execute_result"
    }
   ],
   "source": [
    "#Ans4\n",
    "def exponentiation(N, P):\n",
    "    if P == 0:\n",
    "        return 1\n",
    "    else:\n",
    "        return N * exponentiation(N, P - 1)\n",
    "N = 5\n",
    "P = 2\n",
    "exponentiation(N, P)"
   ]
  },
  {
   "cell_type": "code",
   "execution_count": 13,
   "id": "e886761b-cea5-409c-95f6-98838e0c0bb0",
   "metadata": {},
   "outputs": [
    {
     "data": {
      "text/plain": [
       "25"
      ]
     },
     "execution_count": 13,
     "metadata": {},
     "output_type": "execute_result"
    }
   ],
   "source": [
    "#Ans5\n",
    "def exponentiation(N, P):\n",
    "    if P == 0:\n",
    "        return 1\n",
    "    else:\n",
    "        return N * exponentiation(N, P - 1)\n",
    "N = 5\n",
    "P = 2\n",
    "exponentiation(N, P)"
   ]
  },
  {
   "cell_type": "code",
   "execution_count": 14,
   "id": "56854edf-6499-4dd8-b435-3f449b86a2bd",
   "metadata": {},
   "outputs": [
    {
     "name": "stdout",
     "output_type": "stream",
     "text": [
      "The 5 term of the series is: 6\n"
     ]
    }
   ],
   "source": [
    "#Ans6\n",
    "def findNthTerm(a, d, N):\n",
    "    return a + (N - 1) * d\n",
    "\n",
    "\n",
    "a = 2\n",
    "d = 1\n",
    "N = 5\n",
    "nth_term = findNthTerm(a, d, N)\n",
    "print(\"The\", N, \"term of the series is:\", nth_term)"
   ]
  },
  {
   "cell_type": "code",
   "execution_count": null,
   "id": "b61018e5-b5a3-4be0-aa2d-a273d9bc8503",
   "metadata": {},
   "outputs": [
    {
     "name": "stdout",
     "output_type": "stream",
     "text": [
      "ABC\n",
      "ACB\n",
      "BAC\n",
      "BCA\n",
      "CBA\n",
      "CAB\n"
     ]
    }
   ],
   "source": [
    "#Ans7\n",
    "def permutations(string, left, right):\n",
    "    if left == right:\n",
    "        print(''.join(string))\n",
    "    else:\n",
    "        for i in range(left, right + 1):\n",
    "            string[left], string[i] = string[i], string[left]\n",
    "            permutations(string, left + 1, right)\n",
    "            string[left], string[i] = string[i], string[left]  # backtrack\n",
    "\n",
    "s = \"ABC\"\n",
    "n = len(s)\n",
    "string = list(s)\n",
    "permutations(string, 0, n - 1)"
   ]
  },
  {
   "cell_type": "code",
   "execution_count": 16,
   "id": "a596a6f5-f5e1-4465-a860-6addfeb2fee3",
   "metadata": {},
   "outputs": [
    {
     "name": "stdout",
     "output_type": "stream",
     "text": [
      "120\n"
     ]
    }
   ],
   "source": [
    "#Ans8\n",
    "def productOfArray(arr, n):\n",
    "    if n == 0:\n",
    "        return arr[0]\n",
    "    else:\n",
    "        return arr[n] * productOfArray(arr, n - 1)\n",
    "\n",
    "arr = [1, 2, 3, 4, 5]\n",
    "n = len(arr) - 1\n",
    "product = productOfArray(arr, n)\n",
    "print(product)"
   ]
  }
 ],
 "metadata": {
  "kernelspec": {
   "display_name": "Python 3 (ipykernel)",
   "language": "python",
   "name": "python3"
  },
  "language_info": {
   "codemirror_mode": {
    "name": "ipython",
    "version": 3
   },
   "file_extension": ".py",
   "mimetype": "text/x-python",
   "name": "python",
   "nbconvert_exporter": "python",
   "pygments_lexer": "ipython3",
   "version": "3.10.6"
  }
 },
 "nbformat": 4,
 "nbformat_minor": 5
}
