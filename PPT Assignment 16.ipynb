{
 "cells": [
  {
   "cell_type": "code",
   "execution_count": 9,
   "id": "7dc6ad22-97b4-48ef-ace7-140712312a6d",
   "metadata": {},
   "outputs": [
    {
     "name": "stdout",
     "output_type": "stream",
     "text": [
      "5 7 4 8 "
     ]
    }
   ],
   "source": [
    "#Ans1\n",
    "from collections import defaultdict\n",
    "\n",
    "def find_nearest_greater_frequency(arr):\n",
    "    frequency = defaultdict(int)  # Dictionary to store frequency of elements\n",
    "    result = [-1] * len(arr)  # Result array initialized with -1\n",
    "\n",
    "    for i in range(len(arr) - 1, -1, -1):  # Traverse the array from right to left\n",
    "        frequency[arr[i]] += 1  # Update the frequency of the current element\n",
    "\n",
    "        # Check for elements on the right with greater frequency\n",
    "        for j in range(i + 1, len(arr)):\n",
    "            if frequency[arr[j]] > frequency[arr[i]]:\n",
    "                result[i] = arr[j]  # Store the nearest element with greater frequency\n",
    "                break\n",
    "\n",
    "    return result\n",
    "\n",
    "arr = [1, 1, 2, 3, 4, 2, 1]\n",
    "result = find_nearest_greater_frequency(arr)\n",
    "print(result)"
   ]
  },
  {
   "cell_type": "code",
   "execution_count": 1,
   "id": "2ae7444f-52c5-443f-a76a-cdae9c4f2a36",
   "metadata": {},
   "outputs": [
    {
     "name": "stdout",
     "output_type": "stream",
     "text": [
      "[1, 2, 3, 5, 8]\n"
     ]
    }
   ],
   "source": [
    "#Ans2\n",
    "def sort_stack(stack):\n",
    "    temp_stack = []\n",
    "\n",
    "    while stack:\n",
    "        temp = stack.pop()\n",
    "\n",
    "        while temp_stack and temp_stack[-1] > temp:\n",
    "            stack.append(temp_stack.pop())\n",
    "\n",
    "        temp_stack.append(temp)\n",
    "\n",
    "    return temp_stack\n",
    "stack = [5, 2, 8, 1, 3]\n",
    "sorted_stack = sort_stack(stack)\n",
    "print(sorted_stack)"
   ]
  },
  {
   "cell_type": "code",
   "execution_count": 2,
   "id": "f6660238-17f3-4786-9f8c-057fa197466b",
   "metadata": {},
   "outputs": [
    {
     "name": "stdout",
     "output_type": "stream",
     "text": [
      "[1, 2, 4, 5]\n"
     ]
    }
   ],
   "source": [
    "#Ans 3\n",
    "def delete_middle(stack, current_position, middle_position):\n",
    "    if current_position == middle_position:\n",
    "        stack.pop()\n",
    "        return\n",
    "\n",
    "    temp = stack.pop()\n",
    "    delete_middle(stack, current_position + 1, middle_position)\n",
    "    stack.append(temp)\n",
    "\n",
    "\n",
    "def delete_middle_element(stack):\n",
    "    size = len(stack)\n",
    "    middle_position = (size // 2) + 1\n",
    "    delete_middle(stack, 1, middle_position)\n",
    "\n",
    "\n",
    "# Example usage:\n",
    "stack = [1, 2, 3, 4, 5]\n",
    "delete_middle_element(stack)\n",
    "print(stack)"
   ]
  },
  {
   "cell_type": "code",
   "execution_count": 3,
   "id": "107f70e3-557c-47f2-b403-9e25bd8b3f27",
   "metadata": {},
   "outputs": [
    {
     "name": "stdout",
     "output_type": "stream",
     "text": [
      "True\n"
     ]
    }
   ],
   "source": [
    "#Ans4\n",
    "from queue import Queue\n",
    "\n",
    "\n",
    "def check_queue_order(queue):\n",
    "    stack = []\n",
    "    destination_queue = Queue()\n",
    "    expected_element = 1\n",
    "\n",
    "    while not queue.empty():\n",
    "        if queue.queue[0] == expected_element:\n",
    "            destination_queue.put(queue.get())\n",
    "            expected_element += 1\n",
    "        elif stack and stack[-1] == expected_element:\n",
    "            destination_queue.put(stack.pop())\n",
    "            expected_element += 1\n",
    "        else:\n",
    "            stack.append(queue.get())\n",
    "\n",
    "    while stack:\n",
    "        if stack[-1] == expected_element:\n",
    "            destination_queue.put(stack.pop())\n",
    "            expected_element += 1\n",
    "        else:\n",
    "            return False\n",
    "\n",
    "    for i in range(1, destination_queue.qsize() + 1):\n",
    "        if destination_queue.queue[i - 1] != i:\n",
    "            return False\n",
    "\n",
    "    return True\n",
    "\n",
    "\n",
    "# Example usage:\n",
    "given_queue = Queue()\n",
    "given_queue.put(3)\n",
    "given_queue.put(1)\n",
    "given_queue.put(2)\n",
    "\n",
    "is_increasing_order = check_queue_order(given_queue)\n",
    "print(is_increasing_order)"
   ]
  },
  {
   "cell_type": "code",
   "execution_count": 4,
   "id": "82c0c9f0-2383-441a-a1c3-ec227301cd7e",
   "metadata": {},
   "outputs": [
    {
     "name": "stdout",
     "output_type": "stream",
     "text": [
      "563\n"
     ]
    }
   ],
   "source": [
    "#Ans5\n",
    "def reverse_number(number):\n",
    "    number_str = str(number)\n",
    "    stack = []\n",
    "\n",
    "    # Push each digit onto the stack\n",
    "    for digit in number_str:\n",
    "        stack.append(digit)\n",
    "\n",
    "    reversed_number_str = ''\n",
    "\n",
    "    # Pop each digit from the stack and append to the reversed number string\n",
    "    while stack:\n",
    "        reversed_number_str += stack.pop()\n",
    "\n",
    "    reversed_number = int(reversed_number_str)\n",
    "\n",
    "    return reversed_number\n",
    "number = 365\n",
    "reversed_number = reverse_number(number)\n",
    "print(reversed_number)"
   ]
  },
  {
   "cell_type": "code",
   "execution_count": 5,
   "id": "05c5298b-d848-456d-99ef-c91cef421f4b",
   "metadata": {},
   "outputs": [
    {
     "name": "stdout",
     "output_type": "stream",
     "text": [
      "3\n",
      "2\n",
      "1\n",
      "4\n",
      "5\n"
     ]
    }
   ],
   "source": [
    "#Ans6\n",
    "from queue import Queue\n",
    "\n",
    "\n",
    "def reverse_k_elements(queue, k):\n",
    "    stack = []\n",
    "\n",
    "    # Dequeue the first k elements and push them onto the stack\n",
    "    for _ in range(k):\n",
    "        stack.append(queue.get())\n",
    "\n",
    "    new_queue = Queue()\n",
    "\n",
    "    # Enqueue the elements from the stack into the new queue\n",
    "    while stack:\n",
    "        new_queue.put(stack.pop())\n",
    "\n",
    "    # Enqueue the remaining elements from the original queue into the new queue\n",
    "    while not queue.empty():\n",
    "        new_queue.put(queue.get())\n",
    "\n",
    "    return new_queue\n",
    "\n",
    "\n",
    "# Example usage:\n",
    "queue = Queue()\n",
    "queue.put(1)\n",
    "queue.put(2)\n",
    "queue.put(3)\n",
    "queue.put(4)\n",
    "queue.put(5)\n",
    "\n",
    "k = 3\n",
    "\n",
    "reversed_queue = reverse_k_elements(queue, k)\n",
    "\n",
    "\n",
    "while not reversed_queue.empty():\n",
    "    print(reversed_queue.get())"
   ]
  },
  {
   "cell_type": "code",
   "execution_count": 6,
   "id": "c352e7ff-05b5-4404-b254-47db89d1fc44",
   "metadata": {},
   "outputs": [
    {
     "name": "stdin",
     "output_type": "stream",
     "text": [
      "Enter the sequence of words:  ab aa aa bcd ab\n"
     ]
    },
    {
     "name": "stdout",
     "output_type": "stream",
     "text": [
      "Number of words left after pairwise destruction: 3\n"
     ]
    }
   ],
   "source": [
    "#Ans7\n",
    "def check_pairwise_destruction(sequence):\n",
    "    stack = []\n",
    "    \n",
    "    for word in sequence:\n",
    "        if len(stack) > 0 and stack[-1] == word:\n",
    "            stack.pop()\n",
    "        else:\n",
    "            stack.append(word)\n",
    "    \n",
    "    return len(stack)\n",
    "sequence = input(\"Enter the sequence of words: \").split()\n",
    "remaining_words = check_pairwise_destruction(sequence)\n",
    "print(\"Number of words left after pairwise destruction:\", remaining_words)"
   ]
  },
  {
   "cell_type": "code",
   "execution_count": 7,
   "id": "b5734d13-7d93-435d-86b6-1383e6ef754c",
   "metadata": {},
   "outputs": [
    {
     "name": "stdout",
     "output_type": "stream",
     "text": [
      "Maximum absolute difference: 6\n"
     ]
    }
   ],
   "source": [
    "#Ans8\n",
    "def max_absolute_difference(arr):\n",
    "    n = len(arr)\n",
    "    left_smaller = [0] * n\n",
    "    right_smaller = [0] * n\n",
    "    stack = []\n",
    "\n",
    "    # Finding nearest smaller element on the left side\n",
    "    for i in range(n):\n",
    "        while stack and stack[-1] >= arr[i]:\n",
    "            stack.pop()\n",
    "        if stack:\n",
    "            left_smaller[i] = stack[-1]\n",
    "        stack.append(arr[i])\n",
    "\n",
    "    stack = []\n",
    "\n",
    "    # Finding nearest smaller element on the right side\n",
    "    for i in range(n - 1, -1, -1):\n",
    "        while stack and stack[-1] >= arr[i]:\n",
    "            stack.pop()\n",
    "        if stack:\n",
    "            right_smaller[i] = stack[-1]\n",
    "        stack.append(arr[i])\n",
    "\n",
    "    max_diff = 0\n",
    "    for i in range(n):\n",
    "        diff = abs(left_smaller[i] - right_smaller[i])\n",
    "        max_diff = max(max_diff, diff)\n",
    "\n",
    "    return max_diff\n",
    "\n",
    "arr = [2, 1, 8, 7, 6, 5]\n",
    "max_diff = max_absolute_difference(arr)\n",
    "print(\"Maximum absolute difference:\", max_diff)"
   ]
  }
 ],
 "metadata": {
  "kernelspec": {
   "display_name": "Python 3 (ipykernel)",
   "language": "python",
   "name": "python3"
  },
  "language_info": {
   "codemirror_mode": {
    "name": "ipython",
    "version": 3
   },
   "file_extension": ".py",
   "mimetype": "text/x-python",
   "name": "python",
   "nbconvert_exporter": "python",
   "pygments_lexer": "ipython3",
   "version": "3.10.6"
  }
 },
 "nbformat": 4,
 "nbformat_minor": 5
}
