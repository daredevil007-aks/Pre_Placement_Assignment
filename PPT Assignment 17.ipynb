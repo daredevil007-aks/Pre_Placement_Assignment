{
 "cells": [
  {
   "cell_type": "code",
   "execution_count": 1,
   "id": "7dc6ad22-97b4-48ef-ace7-140712312a6d",
   "metadata": {},
   "outputs": [
    {
     "name": "stdout",
     "output_type": "stream",
     "text": [
      "0\n"
     ]
    }
   ],
   "source": [
    "#Ans1\n",
    "def first_non_repeating_character(s):\n",
    "    char_freq = {}  # Hash map to store character frequencies\n",
    "\n",
    "    # Count the frequency of each character\n",
    "    for char in s:\n",
    "        char_freq[char] = char_freq.get(char, 0) + 1\n",
    "\n",
    "    # Find the first non-repeating character and return its index\n",
    "    for i, char in enumerate(s):\n",
    "        if char_freq[char] == 1:\n",
    "            return i\n",
    "\n",
    "    return -1  # No non-repeating character found\n",
    "\n",
    "s1 = \"leetcode\"\n",
    "index1 = first_non_repeating_character(s1)\n",
    "print(index1)"
   ]
  },
  {
   "cell_type": "code",
   "execution_count": 2,
   "id": "2ae7444f-52c5-443f-a76a-cdae9c4f2a36",
   "metadata": {},
   "outputs": [
    {
     "name": "stdout",
     "output_type": "stream",
     "text": [
      "3\n"
     ]
    }
   ],
   "source": [
    "#Ans2\n",
    "def max_subarray_sum_circular(nums):\n",
    "    total_sum = 0\n",
    "    max_sum = float('-inf')\n",
    "    min_sum = float('inf')\n",
    "    curr_max = 0\n",
    "    curr_min = 0\n",
    "\n",
    "    # Kadane's algorithm to find maximum and minimum sum of subarrays in the original array\n",
    "    for num in nums:\n",
    "        total_sum += num\n",
    "        curr_max = max(curr_max + num, num)\n",
    "        curr_min = min(curr_min + num, num)\n",
    "        max_sum = max(max_sum, curr_max)\n",
    "        min_sum = min(min_sum, curr_min)\n",
    "\n",
    "    # If the maximum sum is negative, return the maximum sum itself\n",
    "    if max_sum < 0:\n",
    "        return max_sum\n",
    "\n",
    "    # Otherwise, return the maximum of the two cases\n",
    "    return max(max_sum, total_sum - min_sum)\n",
    "\n",
    "nums1 = [1, -2, 3, -2]\n",
    "max_sum1 = max_subarray_sum_circular(nums1)\n",
    "print(max_sum1)"
   ]
  },
  {
   "cell_type": "code",
   "execution_count": 3,
   "id": "f6660238-17f3-4786-9f8c-057fa197466b",
   "metadata": {},
   "outputs": [
    {
     "name": "stdout",
     "output_type": "stream",
     "text": [
      "0\n"
     ]
    }
   ],
   "source": [
    "#Ans 3\n",
    "def count_students_unable_to_eat(students, sandwiches):\n",
    "    queue = students.copy()\n",
    "    stack = sandwiches.copy()\n",
    "    n = len(queue)\n",
    "\n",
    "    # Keep track of the number of iterations to detect if any changes were made\n",
    "    iterations = 0\n",
    "\n",
    "    while queue and stack:\n",
    "        student = queue.pop(0)\n",
    "        sandwich = stack[0]\n",
    "\n",
    "        if student == sandwich:\n",
    "            stack.pop(0)\n",
    "            iterations = 0  # Reset iterations when a student is able to eat\n",
    "        else:\n",
    "            queue.append(student)\n",
    "\n",
    "            # Check if any changes were made during this iteration\n",
    "            if iterations == len(queue):\n",
    "                break\n",
    "\n",
    "        iterations += 1\n",
    "\n",
    "    return len(queue)\n",
    "\n",
    "students1 = [1, 1, 0, 0]\n",
    "sandwiches1 = [0, 1, 0, 1]\n",
    "unable_to_eat1 = count_students_unable_to_eat(students1, sandwiches1)\n",
    "print(unable_to_eat1) "
   ]
  },
  {
   "cell_type": "code",
   "execution_count": 4,
   "id": "107f70e3-557c-47f2-b403-9e25bd8b3f27",
   "metadata": {},
   "outputs": [
    {
     "name": "stdout",
     "output_type": "stream",
     "text": [
      "1\n"
     ]
    }
   ],
   "source": [
    "#Ans4\n",
    "from collections import deque\n",
    "\n",
    "class RecentCounter:\n",
    "    def __init__(self):\n",
    "        self.requests = deque()\n",
    "\n",
    "    def ping(self, t: int) -> int:\n",
    "        self.requests.append(t)\n",
    "        while self.requests[0] < t - 3000:\n",
    "            self.requests.popleft()\n",
    "        return len(self.requests)\n",
    "recentCounter = RecentCounter()\n",
    "print(recentCounter.ping(1)) "
   ]
  },
  {
   "cell_type": "code",
   "execution_count": 5,
   "id": "82c0c9f0-2383-441a-a1c3-ec227301cd7e",
   "metadata": {},
   "outputs": [
    {
     "name": "stdout",
     "output_type": "stream",
     "text": [
      "3\n"
     ]
    }
   ],
   "source": [
    "#Ans5\n",
    "def find_the_winner(n: int, k: int) -> int:\n",
    "    friends = list(range(1, n + 1))\n",
    "    current = 0\n",
    "\n",
    "    while len(friends) > 1:\n",
    "        current = (current + k - 1) % len(friends)\n",
    "        friends.pop(current)\n",
    "\n",
    "    return friends[0]\n",
    "\n",
    "print(find_the_winner(5, 2))"
   ]
  },
  {
   "cell_type": "code",
   "execution_count": 7,
   "id": "05c5298b-d848-456d-99ef-c91cef421f4b",
   "metadata": {},
   "outputs": [
    {
     "name": "stdout",
     "output_type": "stream",
     "text": [
      "[2, 13, 3, 11, 5, 17, 7]\n"
     ]
    }
   ],
   "source": [
    "#Ans6\n",
    "from collections import deque\n",
    "\n",
    "def deck_revealed_increasing(deck):\n",
    "    deck.sort()  # Sort the deck in ascending order\n",
    "    result = deque()  # Result deque to store revealed cards\n",
    "\n",
    "    for card in reversed(deck):\n",
    "        if result:\n",
    "            result.appendleft(result.pop())  # Move the last card to the front\n",
    "        result.appendleft(card)  # Reveal the current card\n",
    "\n",
    "    return list(result)\n",
    "\n",
    "print(deck_revealed_increasing([17, 13, 11, 2, 3, 5, 7]))"
   ]
  },
  {
   "cell_type": "code",
   "execution_count": 8,
   "id": "c352e7ff-05b5-4404-b254-47db89d1fc44",
   "metadata": {},
   "outputs": [
    {
     "name": "stdout",
     "output_type": "stream",
     "text": [
      "1\n"
     ]
    }
   ],
   "source": [
    "#Ans7\n",
    "class Node:\n",
    "    def __init__(self, val):\n",
    "        self.val = val\n",
    "        self.prev = None\n",
    "        self.next = None\n",
    "\n",
    "class FrontMiddleBackQueue:\n",
    "    def __init__(self):\n",
    "        self.head = None\n",
    "        self.middle = None\n",
    "        self.size = 0\n",
    "\n",
    "    def pushFront(self, val):\n",
    "        new_node = Node(val)\n",
    "        if not self.head:\n",
    "            self.head = new_node\n",
    "            self.middle = new_node\n",
    "        else:\n",
    "            new_node.next = self.head\n",
    "            self.head.prev = new_node\n",
    "            self.head = new_node\n",
    "            if self.size % 2 == 0:\n",
    "                self.middle = self.middle.prev\n",
    "        self.size += 1\n",
    "\n",
    "    def pushMiddle(self, val):\n",
    "        if not self.head:\n",
    "            self.pushFront(val)\n",
    "            return\n",
    "        new_node = Node(val)\n",
    "        if self.size % 2 == 0:\n",
    "            self.middle = self.middle.prev\n",
    "        if self.size == 1:\n",
    "            self.head.next = new_node\n",
    "            new_node.prev = self.head\n",
    "        else:\n",
    "            prev_middle = self.middle.prev\n",
    "            new_node.next = self.middle\n",
    "            new_node.prev = prev_middle\n",
    "            self.middle.prev = new_node\n",
    "            if prev_middle:\n",
    "                prev_middle.next = new_node\n",
    "        self.middle = new_node\n",
    "        self.size += 1\n",
    "\n",
    "    def pushBack(self, val):\n",
    "        new_node = Node(val)\n",
    "        if not self.head:\n",
    "            self.head = new_node\n",
    "            self.middle = new_node\n",
    "        else:\n",
    "            current = self.head\n",
    "            while current.next:\n",
    "                current = current.next\n",
    "            current.next = new_node\n",
    "            new_node.prev = current\n",
    "            if self.size % 2 == 1:\n",
    "                self.middle = self.middle.next\n",
    "        self.size += 1\n",
    "\n",
    "    def popFront(self):\n",
    "        if not self.head:\n",
    "            return -1\n",
    "        front_val = self.head.val\n",
    "        if self.head.next:\n",
    "            self.head = self.head.next\n",
    "            self.head.prev = None\n",
    "            if self.size % 2 == 0:\n",
    "                self.middle = self.middle.next\n",
    "        else:\n",
    "            self.head = None\n",
    "            self.middle = None\n",
    "        self.size -= 1\n",
    "        return front_val\n",
    "\n",
    "    def popMiddle(self):\n",
    "        if not self.head:\n",
    "            return -1\n",
    "        middle_val = self.middle.val\n",
    "        if self.size == 1:\n",
    "            self.head = None\n",
    "            self.middle = None\n",
    "        else:\n",
    "            prev_node = self.middle.prev\n",
    "            next_node = self.middle.next\n",
    "            if prev_node:\n",
    "                prev_node.next = next_node\n",
    "            if next_node:\n",
    "                next_node.prev = prev_node\n",
    "            if self.size % 2 == 0:\n",
    "                self.middle = next_node\n",
    "            else:\n",
    "                self.middle = prev_node\n",
    "        self.size -= 1\n",
    "        return middle_val\n",
    "\n",
    "    def popBack(self):\n",
    "        if not self.head:\n",
    "            return -1\n",
    "        back_val = None\n",
    "        if self.head.next:\n",
    "            current = self.head\n",
    "            while current.next.next:\n",
    "                current = current.next\n",
    "            back_val = current.next.val\n",
    "            current.next = None\n",
    "            if self.size % 2 == 1:\n",
    "                self.middle = self.middle.prev\n",
    "        else:\n",
    "            back_val = self.head.val\n",
    "            self.head = None\n",
    "            self.middle = None\n",
    "        self.size -= 1\n",
    "        return back_val\n",
    "# Testing the FrontMiddleBackQueue class\n",
    "\n",
    "q = FrontMiddleBackQueue()\n",
    "q.pushFront(1)\n",
    "print(q.popFront())"
   ]
  },
  {
   "cell_type": "code",
   "execution_count": 9,
   "id": "b5734d13-7d93-435d-86b6-1383e6ef754c",
   "metadata": {},
   "outputs": [
    {
     "name": "stdout",
     "output_type": "stream",
     "text": [
      "False\n",
      "False\n",
      "True\n",
      "False\n"
     ]
    }
   ],
   "source": [
    "#Ans8\n",
    "from collections import deque\n",
    "\n",
    "class DataStream:\n",
    "    def __init__(self, value, k):\n",
    "        self.value = value\n",
    "        self.k = k\n",
    "        self.stream = deque()\n",
    "\n",
    "    def consec(self, num):\n",
    "        self.stream.append(num)\n",
    "        if len(self.stream) < self.k:\n",
    "            return False\n",
    "        elif len(self.stream) > self.k:\n",
    "            self.stream.popleft()\n",
    "        return all(val == self.value for val in self.stream)\n",
    "# Given Use Case:\n",
    "dataStream = DataStream(4, 3)\n",
    "print(dataStream.consec(4))  # Output: False\n",
    "print(dataStream.consec(4))  # Output: False\n",
    "print(dataStream.consec(4))  # Output: True\n",
    "print(dataStream.consec(3))"
   ]
  }
 ],
 "metadata": {
  "kernelspec": {
   "display_name": "Python 3 (ipykernel)",
   "language": "python",
   "name": "python3"
  },
  "language_info": {
   "codemirror_mode": {
    "name": "ipython",
    "version": 3
   },
   "file_extension": ".py",
   "mimetype": "text/x-python",
   "name": "python",
   "nbconvert_exporter": "python",
   "pygments_lexer": "ipython3",
   "version": "3.10.6"
  }
 },
 "nbformat": 4,
 "nbformat_minor": 5
}
