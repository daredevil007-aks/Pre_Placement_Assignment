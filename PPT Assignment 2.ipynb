{
 "cells": [
  {
   "cell_type": "code",
   "execution_count": 1,
   "id": "19fc9a15-0729-45d3-afe4-43d069900a97",
   "metadata": {},
   "outputs": [
    {
     "name": "stdout",
     "output_type": "stream",
     "text": [
      "4\n"
     ]
    }
   ],
   "source": [
    "#Ans 1\n",
    "\n",
    "def array_min(*array):\n",
    "    array_list = []\n",
    "    for i in array:\n",
    "        array_list.append(min(i))\n",
    "    print(sum(array_list))\n",
    "array_min([1,2],[3,5]) "
   ]
  },
  {
   "cell_type": "code",
   "execution_count": 8,
   "id": "2d8ee346-fb3c-41eb-8dcc-b5ea0e69dd46",
   "metadata": {},
   "outputs": [
    {
     "name": "stdin",
     "output_type": "stream",
     "text": [
      " 1,1,2,2,3,3\n"
     ]
    },
    {
     "data": {
      "text/plain": [
       "3"
      ]
     },
     "execution_count": 8,
     "metadata": {},
     "output_type": "execute_result"
    }
   ],
   "source": [
    "#Ans2\n",
    "\n",
    "def candy(candyType):\n",
    "    candyType.sort()\n",
    "    unique = 0\n",
    "    for i in range((len(candyType))-1):\n",
    "        if (candyType[i]) != (candyType[i]+1):\n",
    "            unique += 1\n",
    "    return min(unique, len(candyType)//2)\n",
    "\n",
    "candy(list(map(int, input().split(\",\"))))"
   ]
  },
  {
   "cell_type": "code",
   "execution_count": 16,
   "id": "ab0c6e4f-d812-47ef-a5d5-f0d392c62cbf",
   "metadata": {},
   "outputs": [
    {
     "name": "stdin",
     "output_type": "stream",
     "text": [
      " 1,3,2,2,5,2,3,7\n"
     ]
    },
    {
     "data": {
      "text/plain": [
       "5"
      ]
     },
     "execution_count": 16,
     "metadata": {},
     "output_type": "execute_result"
    }
   ],
   "source": [
    "#Ans3\n",
    "def findLHS(nums):\n",
    "    count = {}\n",
    "    max_length = 0\n",
    "\n",
    "    for num in nums:\n",
    "        count[num] = count.get(num, 0) + 1\n",
    "\n",
    "    for num in nums:\n",
    "        if num + 1 in count:\n",
    "            max_length = max(max_length, count[num] + count[num + 1])\n",
    "\n",
    "    return max_length\n",
    "\n",
    "findLHS(list(map(int, input().split(\",\"))))"
   ]
  },
  {
   "cell_type": "code",
   "execution_count": 24,
   "id": "a3caf588-3590-46ad-a0a6-7f5aed334fb5",
   "metadata": {},
   "outputs": [
    {
     "name": "stdout",
     "output_type": "stream",
     "text": [
      "True\n"
     ]
    }
   ],
   "source": [
    "#Ans4\n",
    "\n",
    "def canPlaceFlowers(flowerbed, n):\n",
    "    count = 0\n",
    "    i = 0\n",
    "    while i < len(flowerbed):\n",
    "        if flowerbed[i] == 0:\n",
    "            if i == 0 or flowerbed[i - 1] == 0:\n",
    "                if i == len(flowerbed) - 1 or flowerbed[i + 1] == 0:\n",
    "                    flowerbed[i] = 1\n",
    "                    count += 1\n",
    "                    if count == n:\n",
    "                        return True\n",
    "        i += 1\n",
    "\n",
    "    return count == n\n",
    "flowerbed = [1, 0, 0, 0, 1]\n",
    "n = 1\n",
    "print(canPlaceFlowers(flowerbed, n))"
   ]
  },
  {
   "cell_type": "code",
   "execution_count": 39,
   "id": "53f7a4d2-2e7c-4ba2-95c0-4a5e36fea2c6",
   "metadata": {},
   "outputs": [
    {
     "name": "stdin",
     "output_type": "stream",
     "text": [
      " 1,2,3\n"
     ]
    },
    {
     "data": {
      "text/plain": [
       "6"
      ]
     },
     "execution_count": 39,
     "metadata": {},
     "output_type": "execute_result"
    }
   ],
   "source": [
    "#ANS 5\n",
    "\n",
    "def max_input(num):\n",
    "    product = []\n",
    "    for i in range(len(num)-1):\n",
    "        product_of_two = num[i]*(num[i]+1)\n",
    "        product.append(product_of_two)\n",
    "    return (max(product))\n",
    "    \n",
    "    \n",
    "max_input(list(map(int,input().split(\",\"))))"
   ]
  },
  {
   "cell_type": "code",
   "execution_count": 44,
   "id": "78016f88-4547-4bef-9645-db06890fbae0",
   "metadata": {},
   "outputs": [
    {
     "name": "stdin",
     "output_type": "stream",
     "text": [
      " -1,0,3,5,9,12\n",
      " 9\n"
     ]
    },
    {
     "data": {
      "text/plain": [
       "4"
      ]
     },
     "execution_count": 44,
     "metadata": {},
     "output_type": "execute_result"
    }
   ],
   "source": [
    "#ans 6\n",
    "\n",
    "def index_count(nums,target):\n",
    "    if target in nums:\n",
    "        return nums.index(target)\n",
    "    else:\n",
    "        return -1\n",
    "\n",
    "nums = list(map(int,input().split(\",\")))\n",
    "target = int(input())\n",
    "index_count(nums,target)"
   ]
  },
  {
   "cell_type": "code",
   "execution_count": 45,
   "id": "399a3969-3556-47af-996b-707dab4fc670",
   "metadata": {},
   "outputs": [
    {
     "name": "stdout",
     "output_type": "stream",
     "text": [
      "True\n"
     ]
    }
   ],
   "source": [
    "#Ans 7\n",
    "\n",
    "def isMonotonic(nums):\n",
    "    isIncreasing = False\n",
    "    isDecreasing = False\n",
    "\n",
    "    for i in range(1, len(nums)):\n",
    "        if nums[i] > nums[i-1]:\n",
    "            isIncreasing = True\n",
    "        elif nums[i] < nums[i-1]:\n",
    "            isDecreasing = True\n",
    "        if isIncreasing and isDecreasing:\n",
    "            return False\n",
    "\n",
    "    return True\n",
    "nums = [1, 2, 2, 3]\n",
    "result = isMonotonic(nums)\n",
    "print(result)"
   ]
  },
  {
   "cell_type": "code",
   "execution_count": 46,
   "id": "96d42cd2-9096-4741-8685-4efa76c9259a",
   "metadata": {},
   "outputs": [
    {
     "name": "stdout",
     "output_type": "stream",
     "text": [
      "0\n"
     ]
    }
   ],
   "source": [
    "#Ans 8\n",
    "def minimumScore(nums, k):\n",
    "    minimum = min(nums)\n",
    "    maximum = max(nums)\n",
    "\n",
    "    if maximum - minimum <= 2 * k:\n",
    "        return 0\n",
    "\n",
    "    potential_min = minimum + k\n",
    "    potential_max = maximum - k\n",
    "\n",
    "    return potential_max - potential_min\n",
    "nums = [1]\n",
    "k = 0\n",
    "result = minimumScore(nums, k)\n",
    "print(result)"
   ]
  }
 ],
 "metadata": {
  "kernelspec": {
   "display_name": "Python 3 (ipykernel)",
   "language": "python",
   "name": "python3"
  },
  "language_info": {
   "codemirror_mode": {
    "name": "ipython",
    "version": 3
   },
   "file_extension": ".py",
   "mimetype": "text/x-python",
   "name": "python",
   "nbconvert_exporter": "python",
   "pygments_lexer": "ipython3",
   "version": "3.10.6"
  }
 },
 "nbformat": 4,
 "nbformat_minor": 5
}
