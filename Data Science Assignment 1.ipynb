{
 "cells": [
  {
   "cell_type": "code",
   "execution_count": 1,
   "id": "730a6c80-e6a1-4b8d-abc0-df3f72049251",
   "metadata": {},
   "outputs": [
    {
     "name": "stdout",
     "output_type": "stream",
     "text": [
      "tahska\n"
     ]
    }
   ],
   "source": [
    "#Ans1\n",
    "string = \"akshat\"\n",
    "print(string[::-1])"
   ]
  },
  {
   "cell_type": "code",
   "execution_count": 15,
   "id": "ca02b63c-6978-42be-be0c-4eb94ea0deb8",
   "metadata": {},
   "outputs": [
    {
     "data": {
      "text/plain": [
       "'ada, is a palindrome'"
      ]
     },
     "execution_count": 15,
     "metadata": {},
     "output_type": "execute_result"
    }
   ],
   "source": [
    "#Ans2\n",
    "\n",
    "def palindrome(string):\n",
    "        if string[::-1] == string:\n",
    "            return f'{string}, is a palindrome'\n",
    "        else:\n",
    "            return f'{string}, not a palindrome'\n",
    "\n",
    "string = 'ada'\n",
    "result = palindrome(string)\n",
    "result\n"
   ]
  },
  {
   "cell_type": "code",
   "execution_count": 21,
   "id": "c0476207-2324-448b-91b6-690487b79563",
   "metadata": {},
   "outputs": [
    {
     "data": {
      "text/plain": [
       "8"
      ]
     },
     "execution_count": 21,
     "metadata": {},
     "output_type": "execute_result"
    }
   ],
   "source": [
    "#Ans3\n",
    "\n",
    "def max_out(num_list):\n",
    "    largest = 0 \n",
    "    for i in num_list:\n",
    "        if i > largest:\n",
    "            largest = i\n",
    "    return largest\n",
    "\n",
    "num_list = [1,8,3,4,5,6]\n",
    "result = max_out(num_list)\n",
    "result"
   ]
  },
  {
   "cell_type": "code",
   "execution_count": 32,
   "id": "ee8914d9-d042-4e6a-826b-13cfdaedbf76",
   "metadata": {},
   "outputs": [
    {
     "name": "stdout",
     "output_type": "stream",
     "text": [
      "1, appeared 2 times\n",
      "8, appeared 1 times\n",
      "4, appeared 1 times\n",
      "5, appeared 1 times\n",
      "6, appeared 1 times\n"
     ]
    }
   ],
   "source": [
    "#Ans4\n",
    "\n",
    "def counting_fun(num_list):\n",
    "    dit = {}\n",
    "    for i in num_list:\n",
    "        dit[i] = num_list.count(i)\n",
    "    for j in dit.keys():\n",
    "        print(f'{j}, appeared {dit[j]} times')\n",
    "        \n",
    "num_list = [1,8,1,4,5,6]        \n",
    "result = counting_fun(num_list)\n",
    "result"
   ]
  },
  {
   "cell_type": "code",
   "execution_count": 34,
   "id": "8f249073-a571-405a-bd29-01f916759f22",
   "metadata": {},
   "outputs": [
    {
     "name": "stdout",
     "output_type": "stream",
     "text": [
      "6\n"
     ]
    }
   ],
   "source": [
    "#Ans5\n",
    "\n",
    "def second_max(num_list):\n",
    "    result = sorted(num_list)\n",
    "    print(result[-2])\n",
    "\n",
    "num_list = [1,8,1,4,5,6]\n",
    "result = second_max(num_list)\n",
    "result"
   ]
  },
  {
   "cell_type": "code",
   "execution_count": 38,
   "id": "f8b1c128-b63d-4d20-ba26-53fa02c09a71",
   "metadata": {},
   "outputs": [
    {
     "data": {
      "text/plain": [
       "[1, 4, 5, 6, 8]"
      ]
     },
     "execution_count": 38,
     "metadata": {},
     "output_type": "execute_result"
    }
   ],
   "source": [
    "#Ans6\n",
    " \n",
    "num_list = [1,8,1,4,5,6]\n",
    "\n",
    "def non_repeating_func(num_list):\n",
    "    non_repeated = []\n",
    "    for i in num_list:\n",
    "        if i not in non_repeated:\n",
    "            non_repeated.append(i)\n",
    "    return sorted(non_repeated)\n",
    "\n",
    "result = non_repeating_func(num_list)\n",
    "result"
   ]
  },
  {
   "cell_type": "code",
   "execution_count": 69,
   "id": "1ceef299-3ceb-4293-b392-4cc4c7d38aad",
   "metadata": {},
   "outputs": [
    {
     "name": "stdout",
     "output_type": "stream",
     "text": [
      "24\n"
     ]
    }
   ],
   "source": [
    "#Ans7\n",
    "\n",
    "def factroial(x):\n",
    "    mul=1\n",
    "    for i in range(1,x+1):\n",
    "          mul=mul*i\n",
    "    print(mul)\n",
    "\n",
    "x =4\n",
    "result = factroial(x)\n",
    "result"
   ]
  },
  {
   "cell_type": "code",
   "execution_count": 87,
   "id": "ff5f0fb0-5ddb-4150-b618-718e1b2a6503",
   "metadata": {},
   "outputs": [
    {
     "name": "stdout",
     "output_type": "stream",
     "text": [
      "10 is a prime number\n"
     ]
    }
   ],
   "source": [
    "#Ans8\n",
    "\n",
    "def prime(number):\n",
    "    if number%2 != 0:\n",
    "        print(number,'is not prime number') \n",
    "    else:\n",
    "        print(number,'is a prime number')\n",
    " \n",
    "number = 10\n",
    "result = prime(number)\n",
    "result"
   ]
  },
  {
   "cell_type": "code",
   "execution_count": 103,
   "id": "36ba6e42-bcb5-4c6f-8350-bda285d326d9",
   "metadata": {},
   "outputs": [
    {
     "name": "stdin",
     "output_type": "stream",
     "text": [
      " 1,3,2,1,3\n"
     ]
    },
    {
     "name": "stdout",
     "output_type": "stream",
     "text": [
      "[1, 1, 2, 3, 3]\n"
     ]
    }
   ],
   "source": [
    "#Ans9\n",
    "\n",
    "def order_changer(num_list):\n",
    "    ascending = sorted(num_list)\n",
    "    print(ascending)\n",
    "    \n",
    "result = order_changer(list(map(int, input().split(\",\"))))\n",
    "result"
   ]
  },
  {
   "cell_type": "code",
   "execution_count": 109,
   "id": "3a75fd7c-90c4-4f0c-a213-77e255749088",
   "metadata": {},
   "outputs": [
    {
     "name": "stdin",
     "output_type": "stream",
     "text": [
      " 1,2,3,4,5\n"
     ]
    },
    {
     "name": "stdout",
     "output_type": "stream",
     "text": [
      "15 cross checking 15\n"
     ]
    }
   ],
   "source": [
    "#Ans 10\n",
    "\n",
    "def summing(num_list):\n",
    "    summ = 0\n",
    "    for i in num_list:\n",
    "        summ += i  \n",
    "    print(summ, f'cross checking {sum(num_list)}')\n",
    "    \n",
    "num_list = list(map(int, input().split(\",\")))\n",
    "result = summing(num_list)\n",
    "result"
   ]
  },
  {
   "cell_type": "code",
   "execution_count": null,
   "id": "0d11f386-3459-4c3f-9f8a-424e3e254503",
   "metadata": {},
   "outputs": [],
   "source": []
  }
 ],
 "metadata": {
  "kernelspec": {
   "display_name": "Python 3 (ipykernel)",
   "language": "python",
   "name": "python3"
  },
  "language_info": {
   "codemirror_mode": {
    "name": "ipython",
    "version": 3
   },
   "file_extension": ".py",
   "mimetype": "text/x-python",
   "name": "python",
   "nbconvert_exporter": "python",
   "pygments_lexer": "ipython3",
   "version": "3.10.6"
  }
 },
 "nbformat": 4,
 "nbformat_minor": 5
}
