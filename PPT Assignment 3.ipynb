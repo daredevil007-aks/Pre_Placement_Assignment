{
 "cells": [
  {
   "cell_type": "code",
   "execution_count": 1,
   "id": "e2156bf9-ab2b-42ae-8008-390372690751",
   "metadata": {},
   "outputs": [
    {
     "name": "stdout",
     "output_type": "stream",
     "text": [
      "2\n"
     ]
    }
   ],
   "source": [
    "#Ans1\n",
    "def threeSumClosest(arr, target):\n",
    "    arr.sort()\n",
    "    n = len(arr)\n",
    "    closestSum = float('inf')\n",
    "    for i in range(0,len(arr)):\n",
    "      for j in range(i+1,len(arr)):\n",
    "        for k in range(j+1,len(arr)):\n",
    "          if arr[i] + arr[j] + arr[k] == target:\n",
    "            return target\n",
    "          else:\n",
    "            current_sum = arr[i] + arr[j] + arr[k]\n",
    "            if abs(current_sum - target) < abs(closestSum -target):\n",
    "              closestSum = current_sum\n",
    "\n",
    "    return closestSum\n",
    "\n",
    "nums1 = [-1,2,1,-4]\n",
    "target1 = 1\n",
    "res = threeSumClosest(nums1,target1)\n",
    "print(res)"
   ]
  },
  {
   "cell_type": "code",
   "execution_count": 2,
   "id": "eb2e77e8-cfd2-4ff0-adf1-930cdd0f34a0",
   "metadata": {},
   "outputs": [
    {
     "name": "stdout",
     "output_type": "stream",
     "text": [
      "[[-2, -1, 1, 2], [-2, 0, 0, 2], [-1, 0, 0, 1]]\n"
     ]
    }
   ],
   "source": [
    "#Ans2\n",
    "def find_quadruplets(arr,target):\n",
    "  arr.sort()\n",
    "  n = len(arr)\n",
    "  list1 = []\n",
    "  closest_sum = float('inf')\n",
    "  for i in range(n-2):\n",
    "    for j in range(i+1,n-2):\n",
    "      left = j + 1\n",
    "      right = n - 1\n",
    "      while left < right:\n",
    "        current_sum = arr[i] + arr[j] + arr[left] + arr[right]\n",
    "        if current_sum == target:\n",
    "          list1.append([arr[i],arr[j],arr[left],arr[right]])\n",
    "          left += 1\n",
    "          right -= 1\n",
    "        elif current_sum < target:\n",
    "          left += 1\n",
    "        else:\n",
    "          right -= 1\n",
    "        \n",
    "  return list1\n",
    "\n",
    "nums = [1,0,-1,0,-2,2]\n",
    "target1 = 0\n",
    "res = find_quadruplets(nums,target1)\n",
    "print(res)"
   ]
  },
  {
   "cell_type": "code",
   "execution_count": 3,
   "id": "c99476e0-e421-4cac-af88-97a1411b7c39",
   "metadata": {},
   "outputs": [
    {
     "name": "stdout",
     "output_type": "stream",
     "text": [
      "[1, 3, 2]\n"
     ]
    }
   ],
   "source": [
    "#Ans3\n",
    "def nextPermutation(nums):\n",
    "    n = len(nums)\n",
    "    i = n - 1\n",
    "    while i > 0 and nums[i - 1] >= nums[i]:\n",
    "        i -= 1\n",
    "\n",
    "    if i == 0:\n",
    "        nums.reverse()  \n",
    "        return\n",
    "\n",
    "    j = n - 1\n",
    "    while nums[j] <= nums[i - 1]:\n",
    "        j -= 1\n",
    "\n",
    "    nums[i - 1], nums[j] = nums[j], nums[i - 1]\n",
    "    nums[i:] = reversed(nums[i:])  \n",
    "\n",
    "nums = [1, 2, 3]\n",
    "nextPermutation(nums)\n",
    "print(nums) "
   ]
  },
  {
   "cell_type": "code",
   "execution_count": null,
   "id": "a0a6b67f-2b5f-42ce-acb5-ca9e9426127d",
   "metadata": {},
   "outputs": [],
   "source": [
    "#Ans 4\n",
    "def search_insert_position(nums, target):\n",
    "    left = 0\n",
    "    right = len(nums) - 1\n",
    "\n",
    "    while left <= right:\n",
    "        mid = left + (right - left) // 2\n",
    "\n",
    "        if nums[mid] == target:\n",
    "            return mid\n",
    "        elif nums[mid] < target:\n",
    "            left = mid + 1\n",
    "        else:\n",
    "            right = mid - 1\n",
    "\n",
    "\n",
    "    return left if nums[left] < target else right + 1\n",
    "\n",
    "nums = [1,3,5,6]\n",
    "target1 = 2\n",
    "res = search_insert_position(nums,target1)\n",
    "print(res)"
   ]
  },
  {
   "cell_type": "code",
   "execution_count": 5,
   "id": "d0d989bd-5c6c-48a3-9a91-045a03666397",
   "metadata": {},
   "outputs": [
    {
     "name": "stdout",
     "output_type": "stream",
     "text": [
      "[1, 2, 4]\n"
     ]
    }
   ],
   "source": [
    "#Ans 5 \n",
    "def increment_array(arr):\n",
    "  n = len(arr)\n",
    "  carry = 1\n",
    "  r = n - 1\n",
    "  for i in range(r,-1,-1):\n",
    "    total = arr[i] + carry\n",
    "    arr[i] = total % 10\n",
    "\n",
    "    if total < 10:\n",
    "      carry = 0\n",
    "      break\n",
    "    else:\n",
    "      carry = 1\n",
    "  if carry == 1:\n",
    "    arr.insert(0,1)\n",
    "    \n",
    "  return arr\n",
    "\n",
    "digits = [1,2,3]\n",
    "res = increment_array(digits)\n",
    "print(res)"
   ]
  },
  {
   "cell_type": "code",
   "execution_count": 7,
   "id": "18de98e4-553a-420a-9b63-f3db749daa81",
   "metadata": {},
   "outputs": [
    {
     "name": "stdout",
     "output_type": "stream",
     "text": [
      "[1]\n"
     ]
    }
   ],
   "source": [
    "#Ans 6\n",
    "\n",
    "def find_single_numbers(nums):\n",
    "    nums.sort()\n",
    "    n = len(nums)\n",
    "    result = []\n",
    "    i = 0\n",
    "    while i < n:\n",
    "        if i == n - 1 or nums[i] != nums[i+1]:\n",
    "            result.append(nums[i])\n",
    "        else:\n",
    "            i += 1\n",
    "        i += 1\n",
    "    return result\n",
    "\n",
    "\n",
    "nums = [2,2,1]\n",
    "res = find_single_numbers(nums)\n",
    "print(res)"
   ]
  },
  {
   "cell_type": "code",
   "execution_count": 8,
   "id": "56b43051-7be7-480a-a136-09fb35dc9726",
   "metadata": {},
   "outputs": [
    {
     "name": "stdout",
     "output_type": "stream",
     "text": [
      "[[2, 2], [4, 49], [51, 74], [76, 99]]\n"
     ]
    }
   ],
   "source": [
    "#Ans 7\n",
    "def find_range(nums, lower, upper):\n",
    "    missing_ranges = []\n",
    "    start = lower\n",
    "\n",
    "    for num in nums:\n",
    "        if num == start:\n",
    "            start += 1\n",
    "        elif num > start:\n",
    "            missing_ranges.append([start, num - 1])\n",
    "            start = num + 1\n",
    "\n",
    "    if start <= upper:\n",
    "        missing_ranges.append([start, upper])\n",
    "\n",
    "    return missing_ranges\n",
    "\n",
    "nums = [0, 1, 3, 50, 75]\n",
    "lower = 0\n",
    "upper = 99\n",
    "result = find_range(nums, lower, upper)\n",
    "print(result)"
   ]
  },
  {
   "cell_type": "code",
   "execution_count": 9,
   "id": "0080449d-c594-4077-9eae-9e6cce382844",
   "metadata": {},
   "outputs": [
    {
     "name": "stdout",
     "output_type": "stream",
     "text": [
      "False\n"
     ]
    }
   ],
   "source": [
    "#Ans 7\n",
    "\n",
    "def can_attend_all_meetings(intervals):\n",
    "    n = len(intervals)\n",
    "    intervals.sort(key=lambda x: x[0])\n",
    "\n",
    "    for i in range(0,len(intervals) - 1):\n",
    "        if intervals[i][1] > intervals[i + 1][0]:\n",
    "            return False\n",
    "\n",
    "    return True\n",
    "\n",
    "intervals = [[0, 30], [5, 10], [15, 20]]\n",
    "result = can_attend_all_meetings(intervals)\n",
    "print(result)"
   ]
  }
 ],
 "metadata": {
  "kernelspec": {
   "display_name": "Python 3 (ipykernel)",
   "language": "python",
   "name": "python3"
  },
  "language_info": {
   "codemirror_mode": {
    "name": "ipython",
    "version": 3
   },
   "file_extension": ".py",
   "mimetype": "text/x-python",
   "name": "python",
   "nbconvert_exporter": "python",
   "pygments_lexer": "ipython3",
   "version": "3.10.6"
  }
 },
 "nbformat": 4,
 "nbformat_minor": 5
}
