{
 "cells": [
  {
   "cell_type": "code",
   "execution_count": 20,
   "id": "16cae882-b6bf-49ca-9fd5-206e02a5407a",
   "metadata": {},
   "outputs": [
    {
     "name": "stdout",
     "output_type": "stream",
     "text": [
      "Output 1: 28\n"
     ]
    }
   ],
   "source": [
    "#ANs1\n",
    "class Node:\n",
    "    def __init__(self, val):\n",
    "        self.val = val\n",
    "        self.left = None\n",
    "        self.right = None\n",
    "\n",
    "def findMaxSubtreeSum(root):\n",
    "    if root is None:\n",
    "        return 0\n",
    "\n",
    "    leftSum = findMaxSubtreeSum(root.left)\n",
    "    rightSum = findMaxSubtreeSum(root.right)\n",
    "\n",
    "    currentSum = root.val + leftSum + rightSum\n",
    "\n",
    "    global maxSum\n",
    "    maxSum = max(maxSum, currentSum)\n",
    "\n",
    "    return currentSum\n",
    "     \n",
    "\n",
    "root1 = Node(1)\n",
    "root1.left = Node(2)\n",
    "root1.right = Node(3)\n",
    "root1.left.left = Node(4)\n",
    "root1.left.right = Node(5)\n",
    "root1.right.left = Node(6)\n",
    "root1.right.right = Node(7)\n",
    "\n",
    "maxSum = float('-inf')  # initialize maxSum\n",
    "findMaxSubtreeSum(root1)\n",
    "print(\"Output 1:\", maxSum)"
   ]
  },
  {
   "cell_type": "code",
   "execution_count": 22,
   "id": "a7569858-067d-44c1-a717-1e6e17eb4f38",
   "metadata": {},
   "outputs": [],
   "source": [
    "#Ans2\n",
    "\n",
    "class Node:\n",
    "    def __init__(self, val):\n",
    "        self.val = val\n",
    "        self.left = None\n",
    "        self.right = None\n",
    "\n",
    "def constructBST(levelOrder):\n",
    "    if len(levelOrder) == 0:\n",
    "        return None\n",
    "\n",
    "    root = Node(levelOrder[0])\n",
    "    queue = [root]\n",
    "    i = 1\n",
    "\n",
    "    while i < len(levelOrder):\n",
    "        currentNode = queue.pop(0)\n",
    "\n",
    "        leftValue = levelOrder[i]\n",
    "        if leftValue < currentNode.val:\n",
    "            currentNode.left = Node(leftValue)\n",
    "            queue.append(currentNode.left)\n",
    "            i += 1\n",
    "\n",
    "        if i >= len(levelOrder):\n",
    "            break\n",
    "\n",
    "        rightValue = levelOrder[i]\n",
    "        if rightValue > currentNode.val:\n",
    "            currentNode.right = Node(rightValue)\n",
    "            queue.append(currentNode.right)\n",
    "            i += 1\n",
    "\n",
    "    return root\n",
    "     \n",
    "\n",
    "levelOrder = [7, 4, 12, 3, 6, 8, 1, 5, 10]\n",
    "root = constructBST(levelOrder)"
   ]
  },
  {
   "cell_type": "code",
   "execution_count": 23,
   "id": "a7d76c31-4daf-4a4f-869c-037dd789416e",
   "metadata": {},
   "outputs": [
    {
     "ename": "IndentationError",
     "evalue": "unexpected indent (4045914243.py, line 2)",
     "output_type": "error",
     "traceback": [
      "\u001b[0;36m  Cell \u001b[0;32mIn [23], line 2\u001b[0;36m\u001b[0m\n\u001b[0;31m    stack = []\u001b[0m\n\u001b[0m    ^\u001b[0m\n\u001b[0;31mIndentationError\u001b[0m\u001b[0;31m:\u001b[0m unexpected indent\n"
     ]
    }
   ],
   "source": [
    "#Ans3 def representsBSTLevelOrder(arr):\n",
    "    stack = []\n",
    "    root = float('-inf')\n",
    "    i = 0\n",
    "\n",
    "    for i in range(1, len(arr)):\n",
    "        if arr[i] < root:\n",
    "            return False\n",
    "\n",
    "        while len(stack) > 0 and arr[i] > stack[-1]:\n",
    "            root = stack.pop()\n",
    "\n",
    "        stack.append(arr[i])\n",
    "\n",
    "    return True\n",
    "\n",
    "     \n",
    "\n",
    "arr2 = [11, 6, 13, 5, 12, 10]\n",
    "print( representsBSTLevelOrder(arr2))"
   ]
  }
 ],
 "metadata": {
  "kernelspec": {
   "display_name": "Python 3 (ipykernel)",
   "language": "python",
   "name": "python3"
  },
  "language_info": {
   "codemirror_mode": {
    "name": "ipython",
    "version": 3
   },
   "file_extension": ".py",
   "mimetype": "text/x-python",
   "name": "python",
   "nbconvert_exporter": "python",
   "pygments_lexer": "ipython3",
   "version": "3.10.6"
  }
 },
 "nbformat": 4,
 "nbformat_minor": 5
}
