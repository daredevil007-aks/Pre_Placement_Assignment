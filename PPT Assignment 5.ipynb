{
 "cells": [
  {
   "cell_type": "code",
   "execution_count": 2,
   "id": "4e7e327e-6982-4033-b467-62b70b4d712f",
   "metadata": {},
   "outputs": [
    {
     "data": {
      "text/plain": [
       "[[1, 2], [3, 4]]"
      ]
     },
     "execution_count": 2,
     "metadata": {},
     "output_type": "execute_result"
    }
   ],
   "source": [
    "#Ans 1\n",
    "original = [1,2,3,4]\n",
    "m = 2\n",
    "n = 2\n",
    "def convert_to_2d(original, m, n):\n",
    "    if m * n != len(original):\n",
    "        return [] \n",
    "    result = []\n",
    "    for i in range(m):\n",
    "        row = original[i * n : (i + 1) * n]\n",
    "        result.append(row)\n",
    "\n",
    "    return result\n",
    "convert_to_2d(original, m, n)"
   ]
  },
  {
   "cell_type": "code",
   "execution_count": 3,
   "id": "37cab2ef-fa1a-4587-b697-d122cc834de9",
   "metadata": {},
   "outputs": [
    {
     "name": "stdout",
     "output_type": "stream",
     "text": [
      "2\n"
     ]
    }
   ],
   "source": [
    "#Ans 2\n",
    "def arrangeCoins(n):\n",
    "    left = 0\n",
    "    right = n\n",
    "\n",
    "    while left <= right:\n",
    "        mid = left + (right - left) // 2\n",
    "        total = (mid * (mid + 1)) // 2\n",
    "\n",
    "        if total == n:\n",
    "            return mid\n",
    "        elif total < n:\n",
    "            left = mid + 1\n",
    "        else:\n",
    "            right = mid - 1\n",
    "\n",
    "    return right\n",
    "\n",
    "n = 5\n",
    "\n",
    "output = arrangeCoins(n)\n",
    "print(output)"
   ]
  },
  {
   "cell_type": "code",
   "execution_count": 9,
   "id": "08091405-155c-4239-ac60-ab0c02e71bf0",
   "metadata": {},
   "outputs": [
    {
     "name": "stdin",
     "output_type": "stream",
     "text": [
      " -4,-1,0,3,10\n"
     ]
    },
    {
     "data": {
      "text/plain": [
       "[0, 1, 9, 16, 100]"
      ]
     },
     "execution_count": 9,
     "metadata": {},
     "output_type": "execute_result"
    }
   ],
   "source": [
    "#Ans 3\n",
    "def squaring(nums):\n",
    "    result = []\n",
    "    for i in nums:\n",
    "        result.append(i*i)\n",
    "    result.sort()\n",
    "    return result\n",
    "\n",
    "squaring(list(map(int, input().split(\",\"))))"
   ]
  },
  {
   "cell_type": "code",
   "execution_count": 14,
   "id": "3e0fd83a-eed8-4c67-a34d-6d18b9b68450",
   "metadata": {},
   "outputs": [
    {
     "data": {
      "text/plain": [
       "[[4, 6], [1, 3]]"
      ]
     },
     "execution_count": 14,
     "metadata": {},
     "output_type": "execute_result"
    }
   ],
   "source": [
    "#Ans 4\n",
    "def unique(nums1,nums2): \n",
    "    y = []\n",
    "    y2 = []\n",
    "    for i in nums1:\n",
    "        if i not in nums2:\n",
    "            y.append(i)\n",
    "    for j in nums2:\n",
    "        if j not in nums1:\n",
    "            y2.append(j)\n",
    "    result =list([y]+[y2])\n",
    "    return result\n",
    "\n",
    "unique([2,4,6],[1,2,3])"
   ]
  },
  {
   "cell_type": "code",
   "execution_count": 22,
   "id": "e98ad7e4-c422-4ec7-94f5-7172638acfa9",
   "metadata": {},
   "outputs": [
    {
     "data": {
      "text/plain": [
       "2"
      ]
     },
     "execution_count": 22,
     "metadata": {},
     "output_type": "execute_result"
    }
   ],
   "source": [
    "#Ans 5\n",
    "\n",
    "def distance(arr1, arr2, d):\n",
    "    for i in arr1:\n",
    "        for j in arr2:\n",
    "            if i-j > d:\n",
    "                return d\n",
    "\n",
    "arr1 = [4,5,8]\n",
    "arr2 = [10,9,1,8]\n",
    "d = 2\n",
    "\n",
    "distance(arr1, arr2, d)"
   ]
  },
  {
   "cell_type": "code",
   "execution_count": 27,
   "id": "8d343453-95d0-4a18-bbc4-547dc9e7dc0e",
   "metadata": {},
   "outputs": [
    {
     "data": {
      "text/plain": [
       "[2, 3]"
      ]
     },
     "execution_count": 27,
     "metadata": {},
     "output_type": "execute_result"
    }
   ],
   "source": [
    "#Ans6\n",
    "\n",
    "def counting(nums):\n",
    "    result = []\n",
    "    for i in nums:\n",
    "        if nums.count(i) > 1:\n",
    "            if i not in result:\n",
    "                result.append(i)\n",
    "                result.sort()\n",
    "    return result\n",
    "\n",
    "counting([4,3,2,7,8,2,3,1])             "
   ]
  },
  {
   "cell_type": "code",
   "execution_count": 35,
   "id": "5bf41b47-933f-4008-ba45-ac1c137f26d7",
   "metadata": {},
   "outputs": [
    {
     "data": {
      "text/plain": [
       "[5, 1, 2, 3, 4]"
      ]
     },
     "execution_count": 35,
     "metadata": {},
     "output_type": "execute_result"
    }
   ],
   "source": [
    "#Ans 7\n",
    "\n",
    "def rotating(nums,y): \n",
    "    result = []\n",
    "    for i in nums[y:]:\n",
    "        result.append(i)\n",
    "    for j in nums[:y]:\n",
    "        result.append(j)\n",
    "    return result\n",
    "\n",
    "rotating([3,4,5,1,2],2)"
   ]
  },
  {
   "cell_type": "code",
   "execution_count": 39,
   "id": "21220fe4-6659-4a2f-a93d-69c36625a45a",
   "metadata": {},
   "outputs": [
    {
     "data": {
      "text/plain": [
       "[1, 3, 4]"
      ]
     },
     "execution_count": 39,
     "metadata": {},
     "output_type": "execute_result"
    }
   ],
   "source": [
    "#Ans 8\n",
    "\n",
    "def doubled(changed):\n",
    "    result = []\n",
    "    for i in changed[0:3]:\n",
    "        for j in changed[3:]:\n",
    "            if i*2 == j:\n",
    "                result.append(i)\n",
    "    return result\n",
    "\n",
    "doubled([1,3,4,2,6,8])"
   ]
  }
 ],
 "metadata": {
  "kernelspec": {
   "display_name": "Python 3 (ipykernel)",
   "language": "python",
   "name": "python3"
  },
  "language_info": {
   "codemirror_mode": {
    "name": "ipython",
    "version": 3
   },
   "file_extension": ".py",
   "mimetype": "text/x-python",
   "name": "python",
   "nbconvert_exporter": "python",
   "pygments_lexer": "ipython3",
   "version": "3.10.6"
  }
 },
 "nbformat": 4,
 "nbformat_minor": 5
}
