{
 "cells": [
  {
   "cell_type": "code",
   "execution_count": 9,
   "id": "a46c3bf5",
   "metadata": {},
   "outputs": [
    {
     "name": "stdout",
     "output_type": "stream",
     "text": [
      "[5, 25, 25, -1, 8, 10, 10, -1]\n"
     ]
    }
   ],
   "source": [
    "#Ans1\n",
    "def find_next_greater(arr):\n",
    "    stack = []\n",
    "    result = [-1] * len(arr)  # Initialize the result array with -1\n",
    "\n",
    "    for i in range(len(arr) - 1, -1, -1):\n",
    "        while stack and stack[-1] <= arr[i]:\n",
    "            stack.pop()\n",
    "\n",
    "        if stack:\n",
    "            result[i] = stack[-1]\n",
    "\n",
    "        stack.append(arr[i])\n",
    "\n",
    "    return result\n",
    "arr = [4, 5, 2, 25, 7, 8, 6, 10]\n",
    "result = find_next_greater(arr)\n",
    "print(result)"
   ]
  },
  {
   "cell_type": "code",
   "execution_count": 10,
   "id": "c99a6cd9",
   "metadata": {},
   "outputs": [
    {
     "name": "stdout",
     "output_type": "stream",
     "text": [
      "[-1, 1, 1, 4, 1, 2]\n"
     ]
    }
   ],
   "source": [
    "#ANs2\n",
    "def find_nearest_smaller(a):\n",
    "    stack = []\n",
    "    result = [-1] * len(a)  # Initialize the result array with -1\n",
    "\n",
    "    for i in range(len(a)):\n",
    "        while stack and stack[-1] >= a[i]:\n",
    "            stack.pop()\n",
    "\n",
    "        if stack:\n",
    "            result[i] = stack[-1]\n",
    "\n",
    "        stack.append(a[i])\n",
    "\n",
    "    return result\n",
    "a = [1, 6, 4, 10, 2, 5]\n",
    "result = find_nearest_smaller(a)\n",
    "print(result)"
   ]
  },
  {
   "cell_type": "code",
   "execution_count": 11,
   "id": "ebb4c636",
   "metadata": {},
   "outputs": [
    {
     "name": "stdout",
     "output_type": "stream",
     "text": [
      "3\n",
      "3\n",
      "2\n",
      "False\n",
      "4\n",
      "4\n",
      "1\n",
      "True\n"
     ]
    }
   ],
   "source": [
    "#ANs3\n",
    "class Stack:\n",
    "    def __init__(self):\n",
    "        self.q1 = []\n",
    "        self.q2 = []\n",
    "\n",
    "    def push(self, element):\n",
    "        if not self.q1 and not self.q2:\n",
    "            self.q1.append(element)\n",
    "        elif self.q1:\n",
    "            self.q1.append(element)\n",
    "        else:\n",
    "            self.q2.append(element)\n",
    "\n",
    "    def pop(self):\n",
    "        if not self.q1 and not self.q2:\n",
    "            raise Exception(\"Stack is empty\")\n",
    "\n",
    "        if self.q1:\n",
    "            while len(self.q1) > 1:\n",
    "                self.q2.append(self.q1.pop(0))\n",
    "            return self.q1.pop(0)\n",
    "        else:\n",
    "            while len(self.q2) > 1:\n",
    "                self.q1.append(self.q2.pop(0))\n",
    "            return self.q2.pop(0)\n",
    "\n",
    "    def top(self):\n",
    "        if not self.q1 and not self.q2:\n",
    "            raise Exception(\"Stack is empty\")\n",
    "\n",
    "        if self.q1:\n",
    "            while len(self.q1) > 1:\n",
    "                self.q2.append(self.q1.pop(0))\n",
    "            top_element = self.q1[0]\n",
    "            self.q2.append(self.q1.pop(0))\n",
    "        else:\n",
    "            while len(self.q2) > 1:\n",
    "                self.q1.append(self.q2.pop(0))\n",
    "            top_element = self.q2[0]\n",
    "            self.q1.append(self.q2.pop(0))\n",
    "\n",
    "        return top_element\n",
    "\n",
    "    def is_empty(self):\n",
    "        return not self.q1 and not self.q2\n",
    "\n",
    "stack = Stack()\n",
    "stack.push(1)\n",
    "stack.push(2)\n",
    "stack.push(3)\n",
    "\n",
    "print(stack.top()) \n",
    "print(stack.pop())  \n",
    "print(stack.pop())  \n",
    "\n",
    "print(stack.is_empty())  \n",
    "\n",
    "stack.push(4)\n",
    "print(stack.top())  \n",
    "print(stack.pop())  \n",
    "print(stack.pop()) \n",
    "\n",
    "print(stack.is_empty()) "
   ]
  },
  {
   "cell_type": "code",
   "execution_count": 12,
   "id": "cb4b0f12",
   "metadata": {},
   "outputs": [
    {
     "name": "stdout",
     "output_type": "stream",
     "text": [
      "[6, 7, 1, 2, 3]\n"
     ]
    }
   ],
   "source": [
    "#Ans 4\n",
    "def reverseStack(St):\n",
    "    if len(St) <= 1:\n",
    "        return St\n",
    "    else:\n",
    "        topElement = St.pop()\n",
    "        St = reverseStack(St)\n",
    "        St = insertAtBottom(St, topElement)\n",
    "        return St\n",
    "\n",
    "def insertAtBottom(St, item):\n",
    "    if len(St) == 0:\n",
    "        St.append(item)\n",
    "    else:\n",
    "        topElement = St.pop()\n",
    "        St = insertAtBottom(St, item)\n",
    "        St.append(topElement)\n",
    "    return St\n",
    "\n",
    "St = [3, 2, 1, 7, 6]\n",
    "reversedSt = reverseStack(St)\n",
    "print(reversedSt)"
   ]
  },
  {
   "cell_type": "code",
   "execution_count": 13,
   "id": "60199f2a",
   "metadata": {},
   "outputs": [
    {
     "name": "stdout",
     "output_type": "stream",
     "text": [
      "!dlroW ,olleH\n"
     ]
    }
   ],
   "source": [
    "#Ans 5\n",
    "def reverseString(S):\n",
    "    stack = []\n",
    "    for char in S:\n",
    "        stack.append(char)\n",
    "    \n",
    "    reversedString = \"\"\n",
    "    while stack:\n",
    "        reversedString += stack.pop()\n",
    "    \n",
    "    return reversedString\n",
    "\n",
    "S = \"Hello, World!\"\n",
    "reversedS = reverseString(S)\n",
    "print(reversedS)"
   ]
  },
  {
   "cell_type": "code",
   "execution_count": 14,
   "id": "cf7910d2",
   "metadata": {},
   "outputs": [
    {
     "name": "stdout",
     "output_type": "stream",
     "text": [
      "-4\n"
     ]
    }
   ],
   "source": [
    "#ANs6\n",
    "def evaluatePostfixExpression(S):\n",
    "    stack = []\n",
    "    operators = set(['+', '-', '*', '/'])\n",
    "    \n",
    "    for char in S:\n",
    "        if char not in operators:\n",
    "            stack.append(int(char))\n",
    "        else:\n",
    "            operand2 = stack.pop()\n",
    "            operand1 = stack.pop()\n",
    "            result = evaluateExpression(operand1, operand2, char)\n",
    "            stack.append(result)\n",
    "    \n",
    "    return stack.pop()\n",
    "\n",
    "def evaluateExpression(operand1, operand2, operator):\n",
    "    if operator == '+':\n",
    "        return operand1 + operand2\n",
    "    elif operator == '-':\n",
    "        return operand1 - operand2\n",
    "    elif operator == '*':\n",
    "        return operand1 * operand2\n",
    "    elif operator == '/':\n",
    "        return operand1 / operand2\n",
    "\n",
    "\n",
    "S = \"231*+9-\"\n",
    "result = evaluatePostfixExpression(S)\n",
    "print(result)"
   ]
  },
  {
   "cell_type": "code",
   "execution_count": 15,
   "id": "d3727557",
   "metadata": {},
   "outputs": [
    {
     "name": "stdout",
     "output_type": "stream",
     "text": [
      "1\n",
      "1\n",
      "2\n",
      "10\n"
     ]
    }
   ],
   "source": [
    "#Ans7\n",
    "class MinStack:\n",
    "    def __init__(self):\n",
    "        self.stack = []  # main stack to store elements\n",
    "        self.min_stack = []  # auxiliary stack to keep track of minimum elements\n",
    "\n",
    "    def push(self, val):\n",
    "        self.stack.append(val)  # push the element onto the main stack\n",
    "\n",
    "        # update the minimum stack\n",
    "        if not self.min_stack or val <= self.min_stack[-1]:\n",
    "            self.min_stack.append(val)\n",
    "\n",
    "    def pop(self):\n",
    "        if self.stack:\n",
    "            val = self.stack.pop()  # pop the element from the main stack\n",
    "\n",
    "            # update the minimum stack if the popped element was the minimum\n",
    "            if val == self.min_stack[-1]:\n",
    "                self.min_stack.pop()\n",
    "\n",
    "    def top(self):\n",
    "        if self.stack:\n",
    "            return self.stack[-1]  # return the top element of the main stack\n",
    "\n",
    "    def getMin(self):\n",
    "        if self.min_stack:\n",
    "            return self.min_stack[-1]  # return the minimum element from the auxiliary stack\n",
    "\n",
    "minStack = MinStack()\n",
    "minStack.push(5)\n",
    "minStack.push(2)\n",
    "minStack.push(10)\n",
    "minStack.push(1)\n",
    "\n",
    "print(minStack.getMin())  \n",
    "print(minStack.top())  \n",
    "\n",
    "minStack.pop()\n",
    "print(minStack.getMin())  \n",
    "print(minStack.top())  "
   ]
  },
  {
   "cell_type": "code",
   "execution_count": 16,
   "id": "199ea811",
   "metadata": {},
   "outputs": [
    {
     "name": "stdout",
     "output_type": "stream",
     "text": [
      "8\n"
     ]
    }
   ],
   "source": [
    "#Ans 8 \n",
    "def trap(height):\n",
    "    if not height:\n",
    "        return 0\n",
    "\n",
    "    left = 0\n",
    "    right = len(height) - 1\n",
    "    left_max = right_max = trapped_water = 0\n",
    "\n",
    "    while left < right:\n",
    "        if height[left] < height[right]:\n",
    "            if height[left] >= left_max:\n",
    "                left_max = height[left]\n",
    "            else:\n",
    "                trapped_water += left_max - height[left]\n",
    "            left += 1\n",
    "        else:\n",
    "            if height[right] >= right_max:\n",
    "                right_max = height[right]\n",
    "            else:\n",
    "                trapped_water += right_max - height[right]\n",
    "            right -= 1\n",
    "\n",
    "    return trapped_water\n",
    "\n",
    "height = [0, 1, 0, 2, 1, 0, 3, 1, 0, 1, 2]\n",
    "result = trap(height)\n",
    "print(result)"
   ]
  }
 ],
 "metadata": {
  "kernelspec": {
   "display_name": "Python 3 (ipykernel)",
   "language": "python",
   "name": "python3"
  },
  "language_info": {
   "codemirror_mode": {
    "name": "ipython",
    "version": 3
   },
   "file_extension": ".py",
   "mimetype": "text/x-python",
   "name": "python",
   "nbconvert_exporter": "python",
   "pygments_lexer": "ipython3",
   "version": "3.9.12"
  }
 },
 "nbformat": 4,
 "nbformat_minor": 5
}
