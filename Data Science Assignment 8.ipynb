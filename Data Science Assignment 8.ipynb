{
 "cells": [
  {
   "cell_type": "raw",
   "id": "ef7fee23-6ba9-4b33-8ce3-6cf90c08d299",
   "metadata": {},
   "source": [
    "Files Link - https://docs.google.com/document/d/1ZTUn6nBLjSBmEf820s3CUSJEmxImK5yB/edit?usp=sharing&ouid=103262288345947269790&rtpof=true&sd=true"
   ]
  }
 ],
 "metadata": {
  "kernelspec": {
   "display_name": "Python 3 (ipykernel)",
   "language": "python",
   "name": "python3"
  },
  "language_info": {
   "codemirror_mode": {
    "name": "ipython",
    "version": 3
   },
   "file_extension": ".py",
   "mimetype": "text/x-python",
   "name": "python",
   "nbconvert_exporter": "python",
   "pygments_lexer": "ipython3",
   "version": "3.10.6"
  }
 },
 "nbformat": 4,
 "nbformat_minor": 5
}
