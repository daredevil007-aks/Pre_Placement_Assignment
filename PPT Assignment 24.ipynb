{
 "cells": [
  {
   "cell_type": "code",
   "execution_count": 39,
   "id": "f46c173b-9450-4c52-bc88-49a540125f4c",
   "metadata": {},
   "outputs": [
    {
     "name": "stdout",
     "output_type": "stream",
     "text": [
      "3\n",
      "58\n"
     ]
    }
   ],
   "source": [
    "#Ans1\n",
    "def romanToInt(s):\n",
    "    roman_values = {\n",
    "        'I': 1,\n",
    "        'V': 5,\n",
    "        'X': 10,\n",
    "        'L': 50,\n",
    "        'C': 100,\n",
    "        'D': 500,\n",
    "        'M': 1000\n",
    "    }\n",
    "\n",
    "    total = 0\n",
    "    n = len(s)\n",
    "\n",
    "    for i in range(n):\n",
    "        if i < n - 1 and roman_values[s[i]] < roman_values[s[i + 1]]:\n",
    "            total -= roman_values[s[i]]\n",
    "        else:\n",
    "            total += roman_values[s[i]]\n",
    "\n",
    "    return total\n",
    "\n",
    "s1 = \"III\"\n",
    "print(romanToInt(s1))\n",
    "\n",
    "s2 = \"LVIII\"\n",
    "print(romanToInt(s2))\n"
   ]
  },
  {
   "cell_type": "code",
   "execution_count": 40,
   "id": "13dbb5c5-3c39-4061-9595-ef804eb78b90",
   "metadata": {},
   "outputs": [
    {
     "name": "stdout",
     "output_type": "stream",
     "text": [
      "3\n"
     ]
    }
   ],
   "source": [
    "#Ans2\n",
    "def lengthOfLongestSubstring(s):\n",
    "    n = len(s)\n",
    "    unique_chars = set()\n",
    "    max_length = 0\n",
    "    start = 0\n",
    "    end = 0\n",
    "\n",
    "    while start < n and end < n:\n",
    "        if s[end] not in unique_chars:\n",
    "            unique_chars.add(s[end])\n",
    "            end += 1\n",
    "            max_length = max(max_length, end - start)\n",
    "        else:\n",
    "            unique_chars.remove(s[start])\n",
    "            start += 1\n",
    "\n",
    "    return max_length\n",
    "     \n",
    "\n",
    "s = \"abcabcbb\"\n",
    "print(lengthOfLongestSubstring(s))\n",
    "     "
   ]
  },
  {
   "cell_type": "code",
   "execution_count": 41,
   "id": "dd34d1fd-8a77-435b-9522-586da9039bfc",
   "metadata": {},
   "outputs": [
    {
     "name": "stdout",
     "output_type": "stream",
     "text": [
      "3\n",
      "2\n"
     ]
    }
   ],
   "source": [
    "#Ans3\n",
    "def majorityElement(nums):\n",
    "    count = 0\n",
    "    candidate = None\n",
    "\n",
    "    for num in nums:\n",
    "        if count == 0:\n",
    "            candidate = num\n",
    "            count += 1\n",
    "        elif num == candidate:\n",
    "            count += 1\n",
    "        else:\n",
    "            count -= 1\n",
    "\n",
    "    return candidate\n",
    "     \n",
    "\n",
    "nums1 = [3, 2, 3]\n",
    "print(majorityElement(nums1))\n",
    "\n",
    "nums2 = [2, 2, 1, 1, 1, 2, 2]\n",
    "print(majorityElement(nums2))"
   ]
  },
  {
   "cell_type": "code",
   "execution_count": 42,
   "id": "784a9396-ecb4-47e8-8fa8-4eecac589167",
   "metadata": {},
   "outputs": [
    {
     "name": "stdout",
     "output_type": "stream",
     "text": [
      "[['eat', 'tea', 'ate'], ['tan', 'nat'], ['bat']]\n",
      "[['']]\n",
      "[['a']]\n"
     ]
    }
   ],
   "source": [
    "#Ans4\n",
    "from collections import defaultdict\n",
    "\n",
    "def groupAnagrams(strs):\n",
    "    anagram_groups = defaultdict(list)\n",
    "\n",
    "    for str in strs:\n",
    "        sorted_str = ''.join(sorted(str))\n",
    "        anagram_groups[sorted_str].append(str)\n",
    "\n",
    "    return list(anagram_groups.values())\n",
    "     \n",
    "\n",
    "strs1 = [\"eat\", \"tea\", \"tan\", \"ate\", \"nat\", \"bat\"]\n",
    "print(groupAnagrams(strs1))\n",
    "\n",
    "strs2 = [\"\"]\n",
    "print(groupAnagrams(strs2))\n",
    "\n",
    "strs3 = [\"a\"]\n",
    "print(groupAnagrams(strs3))"
   ]
  },
  {
   "cell_type": "code",
   "execution_count": 43,
   "id": "d90ff273-1c1a-4859-9595-c621d2ab01a7",
   "metadata": {},
   "outputs": [
    {
     "name": "stdout",
     "output_type": "stream",
     "text": [
      "12\n",
      "1\n"
     ]
    }
   ],
   "source": [
    "#Ans2\n",
    "def nthUglyNumber(n):\n",
    "    ugly = [1]\n",
    "    p2 = p3 = p5 = 0\n",
    "\n",
    "    for i in range(1, n):\n",
    "        ugly.append(min(ugly[p2] * 2, ugly[p3] * 3, ugly[p5] * 5))\n",
    "\n",
    "        if ugly[i] == ugly[p2] * 2:\n",
    "            p2 += 1\n",
    "        if ugly[i] == ugly[p3] * 3:\n",
    "            p3 += 1\n",
    "        if ugly[i] == ugly[p5] * 5:\n",
    "            p5 += 1\n",
    "\n",
    "    return ugly[-1]\n",
    "     \n",
    "\n",
    "print(nthUglyNumber(10))\n",
    "print(nthUglyNumber(1))"
   ]
  },
  {
   "cell_type": "code",
   "execution_count": 44,
   "id": "0197ef5c-ef5a-427a-8990-363e9b0e5e44",
   "metadata": {},
   "outputs": [
    {
     "name": "stdout",
     "output_type": "stream",
     "text": [
      "['i', 'love']\n",
      "['the', 'is', 'sunny', 'day']\n"
     ]
    }
   ],
   "source": [
    "#Ans3\n",
    "def topKFrequent(words, k):\n",
    "    word_count = {}\n",
    "\n",
    "    # Count the frequency of each word\n",
    "    for word in words:\n",
    "        word_count[word] = word_count.get(word, 0) + 1\n",
    "\n",
    "    # Custom sorting function\n",
    "    def compare(word):\n",
    "        return (-word_count[word], word)\n",
    "\n",
    "    # Sort the words based on frequency and lexicographical order\n",
    "    sorted_words = sorted(word_count.keys(), key=compare)\n",
    "\n",
    "    # Return the top k words\n",
    "    return sorted_words[:k]\n",
    "     \n",
    "\n",
    "words1 = [\"i\", \"love\", \"leetcode\", \"i\", \"love\", \"coding\"]\n",
    "k1 = 2\n",
    "print(topKFrequent(words1, k1))\n",
    "\n",
    "words2 = [\"the\", \"day\", \"is\", \"sunny\", \"the\", \"the\", \"the\", \"sunny\", \"is\", \"is\"]\n",
    "k2 = 4\n",
    "print(topKFrequent(words2, k2))"
   ]
  },
  {
   "cell_type": "code",
   "execution_count": 45,
   "id": "aa35997e-53ac-4677-b1cd-e83c53f79306",
   "metadata": {},
   "outputs": [
    {
     "name": "stdout",
     "output_type": "stream",
     "text": [
      "[3, 3, 5, 5, 6, 7]\n",
      "[1]\n"
     ]
    }
   ],
   "source": [
    "#Ans4\n",
    "\n",
    "from collections import deque\n",
    "\n",
    "def maxSlidingWindow(nums, k):\n",
    "    # Initialize a deque to store indices of elements in descending order\n",
    "    # The front of the deque will always contain the maximum element for the current window\n",
    "    window = deque()\n",
    "    result = []\n",
    "\n",
    "    for i in range(len(nums)):\n",
    "        # Remove indices that are outside the current window\n",
    "        while window and window[0] <= i - k:\n",
    "            window.popleft()\n",
    "\n",
    "        # Remove indices of elements smaller than the current element\n",
    "        while window and nums[window[-1]] < nums[i]:\n",
    "            window.pop()\n",
    "\n",
    "        # Add the current element's index to the deque\n",
    "        window.append(i)\n",
    "\n",
    "        # Add the maximum element to the result when the window reaches size k\n",
    "        if i >= k - 1:\n",
    "            result.append(nums[window[0]])\n",
    "\n",
    "    return result\n",
    "     \n",
    "\n",
    "nums1 = [1, 3, -1, -3, 5, 3, 6, 7]\n",
    "k1 = 3\n",
    "print(maxSlidingWindow(nums1, k1))\n",
    "\n",
    "nums2 = [1]\n",
    "k2 = 1\n",
    "print(maxSlidingWindow(nums2, k2))"
   ]
  },
  {
   "cell_type": "code",
   "execution_count": 46,
   "id": "1981797e-ae3f-455b-86d4-7cd31581938c",
   "metadata": {},
   "outputs": [
    {
     "name": "stdout",
     "output_type": "stream",
     "text": [
      "[1, 2, 3, 4]\n",
      "[1, 2, 3, 4]\n"
     ]
    }
   ],
   "source": [
    "#Ans5\n",
    "def findClosestElements(arr, k, x):\n",
    "    left = 0\n",
    "    right = len(arr) - k\n",
    "\n",
    "    while left < right:\n",
    "        mid = left + (right - left) // 2\n",
    "\n",
    "        # Adjust the left or right pointer based on the difference between arr[mid + k] and x\n",
    "        if x - arr[mid] > arr[mid + k] - x:\n",
    "            left = mid + 1\n",
    "        else:\n",
    "            right = mid\n",
    "\n",
    "    # Return the k closest elements\n",
    "    return arr[left:left + k]\n",
    "     \n",
    "\n",
    "arr1 = [1, 2, 3, 4, 5]\n",
    "k1 = 4\n",
    "x1 = 3\n",
    "print(findClosestElements(arr1, k1, x1))\n",
    "\n",
    "arr2 = [1, 2, 3, 4, 5]\n",
    "k2 = 4\n",
    "x2 = -1\n",
    "print(findClosestElements(arr2, k2, x2))"
   ]
  }
 ],
 "metadata": {
  "kernelspec": {
   "display_name": "Python 3 (ipykernel)",
   "language": "python",
   "name": "python3"
  },
  "language_info": {
   "codemirror_mode": {
    "name": "ipython",
    "version": 3
   },
   "file_extension": ".py",
   "mimetype": "text/x-python",
   "name": "python",
   "nbconvert_exporter": "python",
   "pygments_lexer": "ipython3",
   "version": "3.10.6"
  }
 },
 "nbformat": 4,
 "nbformat_minor": 5
}
