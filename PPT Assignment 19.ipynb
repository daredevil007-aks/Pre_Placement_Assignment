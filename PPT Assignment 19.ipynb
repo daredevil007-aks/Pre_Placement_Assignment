{
 "cells": [
  {
   "cell_type": "code",
   "execution_count": 12,
   "id": "7dc6ad22-97b4-48ef-ace7-140712312a6d",
   "metadata": {},
   "outputs": [
    {
     "name": "stdout",
     "output_type": "stream",
     "text": [
      "1 1 2 3 4 4 5 6 "
     ]
    }
   ],
   "source": [
    "#Ans1\n",
    "import heapq\n",
    "\n",
    "class ListNode:\n",
    "    def __init__(self, val=0, next=None):\n",
    "        self.val = val\n",
    "        self.next = next\n",
    "\n",
    "def mergeKLists(lists):\n",
    "    # Create a min-heap\n",
    "    heap = []\n",
    "    # Add the first node from each list to the min-heap\n",
    "    for i in range(len(lists)):\n",
    "        if lists[i]:\n",
    "            heapq.heappush(heap, (lists[i].val, i))\n",
    "\n",
    "    # Create a dummy node and a pointer to the current position\n",
    "    dummy = ListNode(0)\n",
    "    curr = dummy\n",
    "\n",
    "    # Merge the linked lists using the min-heap\n",
    "    while heap:\n",
    "        # Remove the node with the minimum value from the min-heap\n",
    "        val, idx = heapq.heappop(heap)\n",
    "        # Append the node to the merged list\n",
    "        curr.next = ListNode(val)\n",
    "        curr = curr.next\n",
    "        # Move to the next position in the linked list\n",
    "        lists[idx] = lists[idx].next\n",
    "        # Add the next node to the min-heap if it exists\n",
    "        if lists[idx]:\n",
    "            heapq.heappush(heap, (lists[idx].val, idx))\n",
    "\n",
    "    # Return the merged sorted linked list\n",
    "    return dummy.next\n",
    "lists = [ListNode(1, ListNode(4, ListNode(5))),\n",
    "         ListNode(1, ListNode(3, ListNode(4))),\n",
    "         ListNode(2, ListNode(6))]\n",
    "\n",
    "result = mergeKLists(lists)\n",
    "while result:\n",
    "    print(result.val, end=\" \")\n",
    "    result = result.next\n",
    "\n",
    "\n",
    "# Example 2\n",
    "lists = []\n",
    "result = mergeKLists(lists)\n",
    "while result:\n",
    "    print(result.val, end=\" \")\n",
    "    result = result.next\n",
    "\n",
    "\n",
    "# Example 3\n",
    "lists = [[]]\n",
    "result = mergeKLists(lists)\n",
    "while result:\n",
    "    print(result.val, end=\" \")\n",
    "    result = result.next     \n"
   ]
  },
  {
   "cell_type": "code",
   "execution_count": 13,
   "id": "2ae7444f-52c5-443f-a76a-cdae9c4f2a36",
   "metadata": {},
   "outputs": [
    {
     "name": "stdout",
     "output_type": "stream",
     "text": [
      "[2, 1, 1, 0]\n",
      "[0]\n",
      "[0, 0]\n"
     ]
    }
   ],
   "source": [
    "#Ans2\n",
    "\n",
    "def countSmaller(nums):\n",
    "    def mergeSort(arr):\n",
    "        if len(arr) <= 1:\n",
    "            return arr\n",
    "\n",
    "        mid = len(arr) // 2\n",
    "        left = mergeSort(arr[:mid])\n",
    "        right = mergeSort(arr[mid:])\n",
    "        merged = []\n",
    "        i, j = 0, 0\n",
    "        while i < len(left):\n",
    "            if j == len(right) or left[i][0] <= right[j][0]:\n",
    "                counts[left[i][1]] += j\n",
    "                merged.append(left[i])\n",
    "                i += 1\n",
    "            else:\n",
    "                merged.append(right[j])\n",
    "                j += 1\n",
    "        merged.extend(right[j:])\n",
    "        return merged\n",
    "\n",
    "    n = len(nums)\n",
    "    pairs = [(nums[i], i) for i in range(n)]\n",
    "    counts = [0] * n\n",
    "    mergeSort(pairs)\n",
    "\n",
    "    return counts\n",
    "     \n",
    "\n",
    "# Example usage:\n",
    "nums = [5, 2, 6, 1]\n",
    "result = countSmaller(nums)\n",
    "print(result)\n",
    "\n",
    "\n",
    "nums = [-1]\n",
    "result = countSmaller(nums)\n",
    "print(result)\n",
    "\n",
    "\n",
    "nums = [-1, -1]\n",
    "result = countSmaller(nums)\n",
    "print(result)"
   ]
  },
  {
   "cell_type": "code",
   "execution_count": 14,
   "id": "f6660238-17f3-4786-9f8c-057fa197466b",
   "metadata": {},
   "outputs": [
    {
     "name": "stdout",
     "output_type": "stream",
     "text": [
      "[1, 2, 3, 5]\n",
      "[0, 0, 1, 1, 2, 5]\n"
     ]
    }
   ],
   "source": [
    "#Ans 3\n",
    "def partition(nums, low, high):\n",
    "    pivot = nums[high]\n",
    "    i = low\n",
    "    for j in range(low, high):\n",
    "        if nums[j] <= pivot:\n",
    "            nums[i], nums[j] = nums[j], nums[i]\n",
    "            i += 1\n",
    "    nums[i], nums[high] = nums[high], nums[i]\n",
    "    return i\n",
    "\n",
    "def quicksort(nums, low, high):\n",
    "    if low < high:\n",
    "        pivot = partition(nums, low, high)\n",
    "        quicksort(nums, low, pivot - 1)\n",
    "        quicksort(nums, pivot + 1, high)\n",
    "\n",
    "def sortArray(nums):\n",
    "    quicksort(nums, 0, len(nums) - 1)\n",
    "    return nums\n",
    "     \n",
    "\n",
    "nums = [5, 2, 3, 1]\n",
    "result = sortArray(nums)\n",
    "print(result)\n",
    "\n",
    "\n",
    "nums = [5, 1, 1, 2, 0, 0]\n",
    "result = sortArray(nums)\n",
    "print(result)  \n"
   ]
  },
  {
   "cell_type": "code",
   "execution_count": 15,
   "id": "107f70e3-557c-47f2-b403-9e25bd8b3f27",
   "metadata": {},
   "outputs": [
    {
     "name": "stdout",
     "output_type": "stream",
     "text": [
      "[1, 2, 4, 3, 5, 0, 0, 0]\n",
      "[1, 2, 3, 6, 0, 0, 0]\n"
     ]
    }
   ],
   "source": [
    "#Ans4\n",
    "def moveZeroes(arr):\n",
    "    n = len(arr)\n",
    "    j = 0\n",
    "    for i in range(n):\n",
    "        if arr[i] != 0:\n",
    "            arr[i], arr[j] = arr[j], arr[i]\n",
    "            j += 1\n",
    "    for i in range(j, n):\n",
    "        arr[i] = 0\n",
    "    return arr\n",
    "     \n",
    "\n",
    "arr = [1, 2, 0, 4, 3, 0, 5, 0]\n",
    "result = moveZeroes(arr)\n",
    "print(result)\n",
    "\n",
    "\n",
    "arr = [1, 2, 0, 0, 0, 3, 6]\n",
    "result = moveZeroes(arr)\n",
    "print(result)\n",
    "     \n"
   ]
  },
  {
   "cell_type": "code",
   "execution_count": 16,
   "id": "82c0c9f0-2383-441a-a1c3-ec227301cd7e",
   "metadata": {},
   "outputs": [
    {
     "name": "stdout",
     "output_type": "stream",
     "text": [
      "[1, -4, 2, -1, 3, 4]\n",
      "[5, -5, 2, -2, 4, -8, 7, 1, 8, 0]\n"
     ]
    }
   ],
   "source": [
    "#Ans5\n",
    "\n",
    "def rearrangeArray(arr):\n",
    "    positive = []\n",
    "    negative = []\n",
    "\n",
    "    for num in arr:\n",
    "        if num >= 0:\n",
    "            positive.append(num)\n",
    "        else:\n",
    "            negative.append(num)\n",
    "\n",
    "    result = []\n",
    "    i, j = 0, 0\n",
    "\n",
    "    while i < len(positive) and j < len(negative):\n",
    "        result.append(positive[i])\n",
    "        result.append(negative[j])\n",
    "        i += 1\n",
    "        j += 1\n",
    "\n",
    "    # Append any remaining positive or negative numbers\n",
    "    while i < len(positive):\n",
    "        result.append(positive[i])\n",
    "        i += 1\n",
    "\n",
    "    while j < len(negative):\n",
    "        result.append(negative[j])\n",
    "        j += 1\n",
    "\n",
    "    return result\n",
    "     \n",
    "\n",
    "arr = [1, 2, 3, -4, -1, 4]\n",
    "result = rearrangeArray(arr)\n",
    "print(result)\n",
    "\n",
    "\n",
    "arr = [-5, -2, 5, 2, 4, 7, 1, 8, 0, -8]\n",
    "result = rearrangeArray(arr)\n",
    "print(result)\n",
    "     "
   ]
  },
  {
   "cell_type": "code",
   "execution_count": 17,
   "id": "05c5298b-d848-456d-99ef-c91cef421f4b",
   "metadata": {},
   "outputs": [
    {
     "name": "stdout",
     "output_type": "stream",
     "text": [
      "[1, 2, 3, 4, 4, 5, 6, 8]\n",
      "[4, 5, 7, 8, 8, 9]\n"
     ]
    }
   ],
   "source": [
    "#Ans6\n",
    "\n",
    "def mergeSortedArrays(arr1, arr2):\n",
    "    n1 = len(arr1)\n",
    "    n2 = len(arr2)\n",
    "    merged = []\n",
    "    i = 0\n",
    "    j = 0\n",
    "\n",
    "    # Merge the two arrays in a sorted manner\n",
    "    while i < n1 and j < n2:\n",
    "        if arr1[i] <= arr2[j]:\n",
    "            merged.append(arr1[i])\n",
    "            i += 1\n",
    "        else:\n",
    "            merged.append(arr2[j])\n",
    "            j += 1\n",
    "\n",
    "    # Append the remaining elements of arr1\n",
    "    while i < n1:\n",
    "        merged.append(arr1[i])\n",
    "        i += 1\n",
    "\n",
    "    # Append the remaining elements of arr2\n",
    "    while j < n2:\n",
    "        merged.append(arr2[j])\n",
    "        j += 1\n",
    "\n",
    "    return merged\n",
    "     \n",
    "\n",
    "arr1 = [1, 3, 4, 5]\n",
    "arr2 = [2, 4, 6, 8]\n",
    "result = mergeSortedArrays(arr1, arr2)\n",
    "print(result)\n",
    "\n",
    "\n",
    "arr1 = [5, 8, 9]\n",
    "arr2 = [4, 7, 8]\n",
    "result = mergeSortedArrays(arr1, arr2)\n",
    "print(result)"
   ]
  },
  {
   "cell_type": "code",
   "execution_count": 10,
   "id": "c352e7ff-05b5-4404-b254-47db89d1fc44",
   "metadata": {},
   "outputs": [
    {
     "name": "stdout",
     "output_type": "stream",
     "text": [
      "4\n"
     ]
    }
   ],
   "source": [
    "#Ans7\n"
   ]
  },
  {
   "cell_type": "code",
   "execution_count": 11,
   "id": "b5734d13-7d93-435d-86b6-1383e6ef754c",
   "metadata": {},
   "outputs": [
    {
     "name": "stdout",
     "output_type": "stream",
     "text": [
      "False\n"
     ]
    }
   ],
   "source": [
    "#Ans8\n",
    "\n"
   ]
  }
 ],
 "metadata": {
  "kernelspec": {
   "display_name": "Python 3 (ipykernel)",
   "language": "python",
   "name": "python3"
  },
  "language_info": {
   "codemirror_mode": {
    "name": "ipython",
    "version": 3
   },
   "file_extension": ".py",
   "mimetype": "text/x-python",
   "name": "python",
   "nbconvert_exporter": "python",
   "pygments_lexer": "ipython3",
   "version": "3.10.6"
  }
 },
 "nbformat": 4,
 "nbformat_minor": 5
}
