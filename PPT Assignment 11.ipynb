{
 "cells": [
  {
   "cell_type": "code",
   "execution_count": 2,
   "id": "325df5eb-2616-4eed-aabc-e3080dae0005",
   "metadata": {},
   "outputs": [
    {
     "name": "stdout",
     "output_type": "stream",
     "text": [
      "2\n",
      "2\n"
     ]
    }
   ],
   "source": [
    "#Ans1\n",
    "def sqrt(x):\n",
    "    if x == 0 or x == 1:\n",
    "        return x\n",
    "    \n",
    "    left = 0\n",
    "    right = x\n",
    "    \n",
    "    while left <= right:\n",
    "        mid = (left + right) // 2\n",
    "        if mid * mid == x:\n",
    "            return mid\n",
    "        elif mid * mid < x:\n",
    "            left = mid + 1\n",
    "            ans = mid\n",
    "        else:\n",
    "            right = mid - 1\n",
    "    \n",
    "    return ans\n",
    "x1 = 4\n",
    "x2 = 8\n",
    "\n",
    "print(sqrt(x1))\n",
    "print(sqrt(x2))    "
   ]
  },
  {
   "cell_type": "code",
   "execution_count": 3,
   "id": "fa90b08f-488b-465c-b18a-8cb1444c29a5",
   "metadata": {},
   "outputs": [
    {
     "name": "stdout",
     "output_type": "stream",
     "text": [
      "2\n",
      "5\n"
     ]
    }
   ],
   "source": [
    "#Ans2\n",
    "\n",
    "def findPeakElement(nums):\n",
    "    left = 0\n",
    "    right = len(nums) - 1\n",
    "    \n",
    "    while left < right:\n",
    "        mid = (left + right) // 2\n",
    "        \n",
    "        if nums[mid] < nums[mid+1]:\n",
    "            left = mid + 1\n",
    "        else:\n",
    "            right = mid\n",
    "    \n",
    "    return left\n",
    "\n",
    "     \n",
    "\n",
    "nums1 = [1, 2, 3, 1]\n",
    "nums2 = [1, 2, 1, 3, 5, 6, 4]\n",
    "\n",
    "\n",
    "print(findPeakElement(nums1))\n",
    "print(findPeakElement(nums2))"
   ]
  },
  {
   "cell_type": "code",
   "execution_count": 4,
   "id": "1b3690ac-a4a5-495c-9aac-dbbafc21b0aa",
   "metadata": {},
   "outputs": [],
   "source": [
    "#Ans3\n",
    "def missingNumber(nums):\n",
    "    n = len(nums)\n",
    "    total_sum = (n * (n + 1)) // 2\n",
    "    array_sum = sum(nums)\n",
    "    missing_num = total_sum - array_sum\n",
    "    return missing_num\n",
    "     \n",
    "\n",
    "nums1 = [3, 0, 1]\n",
    "nums2 = [0, 1]\n",
    "nums3 = [9, 6, 4, 2, 3, 5, 7, 0, 1]"
   ]
  },
  {
   "cell_type": "code",
   "execution_count": null,
   "id": "bf1d6ff5-7d47-4313-bf19-e85409046d33",
   "metadata": {},
   "outputs": [],
   "source": []
  }
 ],
 "metadata": {
  "kernelspec": {
   "display_name": "Python 3 (ipykernel)",
   "language": "python",
   "name": "python3"
  },
  "language_info": {
   "codemirror_mode": {
    "name": "ipython",
    "version": 3
   },
   "file_extension": ".py",
   "mimetype": "text/x-python",
   "name": "python",
   "nbconvert_exporter": "python",
   "pygments_lexer": "ipython3",
   "version": "3.10.6"
  }
 },
 "nbformat": 4,
 "nbformat_minor": 5
}
