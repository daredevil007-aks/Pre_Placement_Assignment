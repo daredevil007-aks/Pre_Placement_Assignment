{
 "cells": [
  {
   "cell_type": "code",
   "execution_count": 4,
   "id": "8154b604-74e0-420f-b81b-b975b7d4bccb",
   "metadata": {},
   "outputs": [
    {
     "name": "stdout",
     "output_type": "stream",
     "text": [
      "mean of region_a = 11.8\n",
      "mean of region_b = 20.2\n"
     ]
    }
   ],
   "source": [
    "#Ans1\n",
    "\n",
    "Region_A =  [10, 15, 12, 8, 14]\n",
    "Region_B =  [18, 20, 16, 22, 25]\n",
    "\n",
    "mean_region_a = sum(Region_A)/len(Region_A)\n",
    "mean_region_b = sum(Region_B)/len(Region_B)\n",
    "\n",
    "print(f'mean of region_a = {mean_region_a}')\n",
    "print(f'mean of region_b = {mean_region_b}')"
   ]
  },
  {
   "cell_type": "code",
   "execution_count": 5,
   "id": "0be53095-3c55-48ba-aff1-3f7b99b1fc11",
   "metadata": {},
   "outputs": [
    {
     "name": "stdout",
     "output_type": "stream",
     "text": [
      "Mode: 4\n"
     ]
    }
   ],
   "source": [
    "#Ans2\n",
    "\n",
    "import statistics\n",
    "\n",
    "responses =  [4, 5, 2, 3, 5, 4, 3, 2, 4, 5]\n",
    "mode_value = statistics.mode(responses)\n",
    "\n",
    "print(\"Mode:\", mode_value)"
   ]
  },
  {
   "cell_type": "code",
   "execution_count": 7,
   "id": "1691aebb-f4fc-4984-a34f-4625f63f4dab",
   "metadata": {},
   "outputs": [
    {
     "name": "stdout",
     "output_type": "stream",
     "text": [
      "median of department A 5750.0\n",
      "median of department A 5500\n"
     ]
    }
   ],
   "source": [
    "#Ans3\n",
    "\n",
    "import statistics\n",
    "Department_A = [5000, 6000, 5500, 7000]\n",
    "Department_B = [4500, 5500, 5800, 6000, 5200]\n",
    "\n",
    "meadian_a = statistics.median(Department_A)\n",
    "median_b = statistics.median(Department_B)\n",
    "\n",
    "print(\"median of department A\",meadian_a)\n",
    "print(\"median of department A\",median_b)\n"
   ]
  },
  {
   "cell_type": "code",
   "execution_count": 11,
   "id": "a8384c60-af41-4527-bff9-5aa2c160c51d",
   "metadata": {},
   "outputs": [
    {
     "name": "stdout",
     "output_type": "stream",
     "text": [
      "Range: 1.3\n"
     ]
    }
   ],
   "source": [
    "#Ans4\n",
    "\n",
    "stock_prices = [25.5, 24.8, 26.1, 25.3, 24.9]\n",
    "price_range = max(stock_prices) - min(stock_prices)\n",
    "\n",
    "print(\"Range:\", round(price_range,2))"
   ]
  },
  {
   "cell_type": "code",
   "execution_count": 12,
   "id": "38500d4c-d887-480c-b621-11b18a3e9f0a",
   "metadata": {},
   "outputs": [
    {
     "name": "stdout",
     "output_type": "stream",
     "text": [
      "T-Statistic: 1.4312528946642733\n",
      "P-Value: 0.19023970239078333\n"
     ]
    }
   ],
   "source": [
    "#Ans 5\n",
    "\n",
    "import scipy.stats as stats\n",
    "\n",
    "group_A = [85, 90, 92, 88, 91]\n",
    "group_B = [82, 88, 90, 86, 87]\n",
    "\n",
    "t_statistic, p_value = stats.ttest_ind(group_A, group_B)\n",
    "\n",
    "print(\"T-Statistic:\", t_statistic)\n",
    "print(\"P-Value:\", p_value)"
   ]
  },
  {
   "cell_type": "code",
   "execution_count": 13,
   "id": "32781493-43e5-4703-a17c-4b4921462175",
   "metadata": {},
   "outputs": [
    {
     "name": "stdout",
     "output_type": "stream",
     "text": [
      "Correlation Coefficient: 0.8757511375750132\n"
     ]
    }
   ],
   "source": [
    "#Ans 6\n",
    "\n",
    "import numpy as np\n",
    "\n",
    "advertising_expenditure = [10, 15, 12, 8, 14]\n",
    "sales = [25, 30, 28, 20, 26]\n",
    "\n",
    "correlation_coef = np.corrcoef(advertising_expenditure, sales)[0, 1]\n",
    "\n",
    "print(\"Correlation Coefficient:\", correlation_coef)"
   ]
  },
  {
   "cell_type": "code",
   "execution_count": 14,
   "id": "f80138fb-146b-4a69-a73c-71050d88cf6f",
   "metadata": {},
   "outputs": [
    {
     "name": "stdout",
     "output_type": "stream",
     "text": [
      "Standard Deviation: 7.953949089757174\n"
     ]
    }
   ],
   "source": [
    "#ans7\n",
    "\n",
    "import numpy as np\n",
    "\n",
    "heights = [160, 170, 165, 155, 175, 180, 170]\n",
    "standard_deviation = np.std(heights)\n",
    "\n",
    "print(\"Standard Deviation:\", standard_deviation)"
   ]
  },
  {
   "cell_type": "code",
   "execution_count": 15,
   "id": "cd7dc6ad-1667-40f9-98ae-90e15369da3b",
   "metadata": {},
   "outputs": [
    {
     "name": "stdout",
     "output_type": "stream",
     "text": [
      "Predicted Job Satisfaction: [7.19148936]\n"
     ]
    }
   ],
   "source": [
    "#Ans8\n",
    "\n",
    "from sklearn.linear_model import LinearRegression\n",
    "import numpy as np\n",
    "\n",
    "employee_tenure = np.array([2, 3, 5, 4, 6, 2, 4]).reshape((-1, 1))\n",
    "job_satisfaction = np.array([7, 8, 6, 9, 5, 7, 6])\n",
    "\n",
    "regression_model = LinearRegression().fit(employee_tenure, job_satisfaction)\n",
    "\n",
    "new_tenure = np.array([3]).reshape((-1, 1))\n",
    "predicted_job_satisfaction = regression_model.predict(new_tenure)\n",
    "\n",
    "print(\"Predicted Job Satisfaction:\", predicted_job_satisfaction)\n"
   ]
  },
  {
   "cell_type": "code",
   "execution_count": 16,
   "id": "099b3be8-af98-4c23-8aa2-b5db2e96ce81",
   "metadata": {},
   "outputs": [
    {
     "name": "stdout",
     "output_type": "stream",
     "text": [
      "F-Statistic: 16.0\n",
      "P-Value: 0.003949772803445326\n"
     ]
    }
   ],
   "source": [
    "#Ans9\n",
    "\n",
    "import scipy.stats as stats\n",
    "\n",
    "medication_A = [10, 12, 14, 11, 13]\n",
    "medication_B = [15, 17, 16, 14, 18]\n",
    "\n",
    "f_statistic, p_value = stats.f_oneway(medication_A, medication_B)\n",
    "\n",
    "print(\"F-Statistic:\", f_statistic)\n",
    "print(\"P-Value:\", p_value)"
   ]
  },
  {
   "cell_type": "code",
   "execution_count": 17,
   "id": "5e37d37d-b310-401b-bd87-aa72de01d72c",
   "metadata": {},
   "outputs": [
    {
     "name": "stdout",
     "output_type": "stream",
     "text": [
      "75th Percentile: 8.75\n"
     ]
    }
   ],
   "source": [
    "#Ans 10\n",
    "import numpy as np\n",
    "\n",
    "feedback_ratings = [8, 9, 7, 6, 8, 10, 9, 8, 7, 8]\n",
    "percentile_75 = np.percentile(feedback_ratings, 75)\n",
    "\n",
    "print(\"75th Percentile:\", percentile_75)"
   ]
  },
  {
   "cell_type": "code",
   "execution_count": 18,
   "id": "51d61988-fe94-4b96-9761-5646cbe29fa0",
   "metadata": {},
   "outputs": [
    {
     "name": "stdout",
     "output_type": "stream",
     "text": [
      "T-Statistic: 1.5126584522688367\n",
      "P-Value: 0.19077595151110102\n"
     ]
    }
   ],
   "source": [
    "#Ans 11\n",
    "import scipy.stats as stats\n",
    "\n",
    "weights = [10.2, 9.8, 10.0, 10.5, 10.3, 10.1]\n",
    "pop_mean = 10.0  \n",
    "\n",
    "t_statistic, p_value = stats.ttest_1samp(weights, pop_mean)\n",
    "\n",
    "print(\"T-Statistic:\", t_statistic)\n",
    "print(\"P-Value:\", p_value)\n",
    "\n"
   ]
  },
  {
   "cell_type": "code",
   "execution_count": 19,
   "id": "80bcefd5-7df8-4bff-b0f6-ffad43e30e81",
   "metadata": {},
   "outputs": [
    {
     "name": "stdout",
     "output_type": "stream",
     "text": [
      "Chi-square Statistic: 6.110658166925435\n",
      "P-Value: 0.19103526314060293\n"
     ]
    }
   ],
   "source": [
    "#ans 12\n",
    "import scipy.stats as stats\n",
    "import numpy as np\n",
    "\n",
    "design_A = [100, 120, 110, 90, 95]\n",
    "design_B = [80, 85, 90, 95, 100]\n",
    "\n",
    "contingency_table = np.array([design_A, design_B])\n",
    "\n",
    "chi2_statistic, p_value, _, _ = stats.chi2_contingency(contingency_table)\n",
    "\n",
    "print(\"Chi-square Statistic:\", chi2_statistic)\n",
    "print(\"P-Value:\", p_value)"
   ]
  },
  {
   "cell_type": "code",
   "execution_count": 21,
   "id": "e0d720d9-8455-447a-9524-b00e99267c76",
   "metadata": {},
   "outputs": [
    {
     "name": "stdout",
     "output_type": "stream",
     "text": [
      "95% Confidence Interval: (7.043561120599888, 8.756438879400113)\n"
     ]
    }
   ],
   "source": [
    "#Ans 13\n",
    "\n",
    "import scipy.stats as stats\n",
    "import numpy as np\n",
    "\n",
    "satisfaction_scores = [7, 9, 6, 8, 10, 7, 8, 9, 7, 8]\n",
    "confidence_level = 0.95 \n",
    "\n",
    "sample_mean = np.mean(satisfaction_scores)\n",
    "sample_std = np.std(satisfaction_scores, ddof=1)  \n",
    "\n",
    "\n",
    "sample_size = len(satisfaction_scores)\n",
    "standard_error = sample_std / np.sqrt(sample_size)\n",
    "confidence_interval = stats.t.interval(confidence_level, df=sample_size-1, loc=sample_mean, scale=standard_error)\n",
    "\n",
    "\n",
    "print(\"95% Confidence Interval:\", confidence_interval)"
   ]
  },
  {
   "cell_type": "code",
   "execution_count": 22,
   "id": "5bf7f4a7-3b92-4dd9-a051-91e68ef1d97f",
   "metadata": {},
   "outputs": [
    {
     "name": "stdout",
     "output_type": "stream",
     "text": [
      "Predicted Performance: [9.1]\n"
     ]
    }
   ],
   "source": [
    "#Ans 14\n",
    "\n",
    "from sklearn.linear_model import LinearRegression\n",
    "import numpy as np\n",
    "\n",
    "temperature = np.array([20, 22, 23, 19, 21]).reshape((-1, 1))\n",
    "performance = np.array([8, 7, 9, 6, 8])\n",
    "\n",
    "regression_model = LinearRegression().fit(temperature, performance)\n",
    "\n",
    "new_temperature = np.array([24]).reshape((-1, 1))\n",
    "predicted_performance = regression_model.predict(new_temperature)\n",
    "\n",
    "print(\"Predicted Performance:\", predicted_performance)"
   ]
  },
  {
   "cell_type": "code",
   "execution_count": 23,
   "id": "8711e268-b572-43b3-aea3-9bcb99dc810b",
   "metadata": {},
   "outputs": [
    {
     "name": "stdout",
     "output_type": "stream",
     "text": [
      "Mann-Whitney U Statistic: 17.0\n",
      "P-Value: 0.380836480306712\n"
     ]
    }
   ],
   "source": [
    "#Ans 15\n",
    "\n",
    "import scipy.stats as stats\n",
    "\n",
    "group_A = [4, 3, 5, 2, 4]\n",
    "group_B = [3, 2, 4, 3, 3]\n",
    "\n",
    "statistic, p_value = stats.mannwhitneyu(group_A, group_B)\n",
    "\n",
    "print(\"Mann-Whitney U Statistic:\", statistic)\n",
    "print(\"P-Value:\", p_value)"
   ]
  },
  {
   "cell_type": "code",
   "execution_count": 24,
   "id": "8fe7595c-b773-4a5d-a261-ac397222413b",
   "metadata": {},
   "outputs": [
    {
     "name": "stdout",
     "output_type": "stream",
     "text": [
      "Interquartile Range (IQR): 22.5\n"
     ]
    }
   ],
   "source": [
    "#Ans16\n",
    "\n",
    "import numpy as np\n",
    "\n",
    "ages = [25, 30, 35, 40, 45, 50, 55, 60, 65, 70]\n",
    "q1 = np.percentile(ages, 25)\n",
    "q3 = np.percentile(ages, 75)\n",
    "iqr = q3 - q1\n",
    "\n",
    "print(\"Interquartile Range (IQR):\", iqr)"
   ]
  },
  {
   "cell_type": "code",
   "execution_count": 25,
   "id": "a6ea04f2-c75f-474b-89f8-3e36caf32a9d",
   "metadata": {},
   "outputs": [
    {
     "name": "stdout",
     "output_type": "stream",
     "text": [
      "Kruskal-Wallis Statistic: 9.696947935368053\n",
      "P-Value: 0.007840333026249539\n"
     ]
    }
   ],
   "source": [
    "#ANs 17\n",
    "\n",
    "import scipy.stats as stats\n",
    "\n",
    "algorithm_A = [0.85, 0.80, 0.82, 0.87, 0.83]\n",
    "algorithm_B = [0.78, 0.82, 0.84, 0.80, 0.79]\n",
    "algorithm_C = [0.90, 0.88, 0.89, 0.86, 0.87]\n",
    "\n",
    "statistic, p_value = stats.kruskal(algorithm_A, algorithm_B, algorithm_C)\n",
    "\n",
    "print(\"Kruskal-Wallis Statistic:\", statistic)\n",
    "print(\"P-Value:\", p_value)"
   ]
  },
  {
   "cell_type": "code",
   "execution_count": 26,
   "id": "36a95d6f-cbfe-41d9-a2df-e4ac1e69bc53",
   "metadata": {},
   "outputs": [
    {
     "name": "stdout",
     "output_type": "stream",
     "text": [
      "Predicted Sales: [90.79268293]\n"
     ]
    }
   ],
   "source": [
    "#Ans 18\n",
    "\n",
    "from sklearn.linear_model import LinearRegression\n",
    "import numpy as np\n",
    "\n",
    "price = np.array([10, 15, 12, 8, 14]).reshape((-1, 1))\n",
    "sales = np.array([100, 80, 90, 110, 95])\n",
    "\n",
    "regression_model = LinearRegression().fit(price, sales)\n",
    "\n",
    "new_price = np.array([13]).reshape((-1, 1))\n",
    "predicted_sales = regression_model.predict(new_price)\n",
    "\n",
    "print(\"Predicted Sales:\", predicted_sales)"
   ]
  },
  {
   "cell_type": "code",
   "execution_count": 27,
   "id": "56e1109e-a20f-4671-a127-a87e1a4e2d4e",
   "metadata": {},
   "outputs": [
    {
     "name": "stdout",
     "output_type": "stream",
     "text": [
      "Standard Error of the Mean: 0.30550504633038933\n"
     ]
    }
   ],
   "source": [
    "#Ans 19\n",
    "\n",
    "import numpy as np\n",
    "\n",
    "satisfaction_scores = [7, 8, 9, 6, 8, 7, 9, 7, 8, 7]\n",
    "sample_size = len(satisfaction_scores)\n",
    "standard_deviation = np.std(satisfaction_scores, ddof=1)  \n",
    "\n",
    "standard_error = standard_deviation / np.sqrt(sample_size)\n",
    "\n",
    "print(\"Standard Error of the Mean:\", standard_error)"
   ]
  },
  {
   "cell_type": "code",
   "execution_count": 28,
   "id": "37f3e095-c4bb-42d1-b082-1ae226fc89c5",
   "metadata": {},
   "outputs": [
    {
     "name": "stdout",
     "output_type": "stream",
     "text": [
      "Predicted Sales: [27.18292683]\n"
     ]
    }
   ],
   "source": [
    "#Ans 20\n",
    "\n",
    "from sklearn.linear_model import LinearRegression\n",
    "import numpy as np\n",
    "\n",
    "advertising_expenditure = np.array([10, 15, 12, 8, 14]).reshape((-1, 1))\n",
    "sales = np.array([25, 30, 28, 20, 26])\n",
    "\n",
    "regression_model = LinearRegression().fit(advertising_expenditure, sales)\n",
    "\n",
    "new_expenditure = np.array([13]).reshape((-1, 1))\n",
    "predicted_sales = regression_model.predict(new_expenditure)\n",
    "\n",
    "print(\"Predicted Sales:\", predicted_sales)"
   ]
  }
 ],
 "metadata": {
  "kernelspec": {
   "display_name": "Python 3 (ipykernel)",
   "language": "python",
   "name": "python3"
  },
  "language_info": {
   "codemirror_mode": {
    "name": "ipython",
    "version": 3
   },
   "file_extension": ".py",
   "mimetype": "text/x-python",
   "name": "python",
   "nbconvert_exporter": "python",
   "pygments_lexer": "ipython3",
   "version": "3.10.6"
  }
 },
 "nbformat": 4,
 "nbformat_minor": 5
}
