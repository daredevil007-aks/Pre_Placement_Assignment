{
 "cells": [
  {
   "cell_type": "code",
   "execution_count": 1,
   "id": "7dc6ad22-97b4-48ef-ace7-140712312a6d",
   "metadata": {},
   "outputs": [
    {
     "name": "stdout",
     "output_type": "stream",
     "text": [
      "[[1, 6], [8, 10], [15, 18]]\n"
     ]
    }
   ],
   "source": [
    "#Ans1\n",
    "def merge_intervals(intervals):\n",
    "    intervals.sort(key=lambda x: x[0])  # Sort intervals based on start time\n",
    "    merged = []\n",
    "    for interval in intervals:\n",
    "        if not merged or interval[0] > merged[-1][1]:\n",
    "            # If no overlap, add the current interval to the re|sult list\n",
    "            merged.append(interval)\n",
    "        else:\n",
    "            # If overlap, merge the current interval with the last interval in the result list\n",
    "            merged[-1][1] = max(merged[-1][1], interval[1])\n",
    "    return merged\n",
    "     \n",
    "\n",
    "intervals = [[1, 3], [2, 6], [8, 10], [15, 18]]\n",
    "merged_intervals = merge_intervals(intervals)\n",
    "print(merged_intervals)"
   ]
  },
  {
   "cell_type": "code",
   "execution_count": 2,
   "id": "2ae7444f-52c5-443f-a76a-cdae9c4f2a36",
   "metadata": {},
   "outputs": [
    {
     "name": "stdout",
     "output_type": "stream",
     "text": [
      "[0, 0, 1, 1, 2, 2]\n"
     ]
    }
   ],
   "source": [
    "#Ans2\n",
    "def sortColors(nums):\n",
    "    low = 0\n",
    "    mid = 0\n",
    "    high = len(nums) - 1\n",
    "\n",
    "    while mid <= high:\n",
    "        if nums[mid] == 0:\n",
    "            nums[mid], nums[low] = nums[low], nums[mid]\n",
    "            low += 1\n",
    "            mid += 1\n",
    "        elif nums[mid] == 1:\n",
    "            mid += 1\n",
    "        else:\n",
    "            nums[mid], nums[high] = nums[high], nums[mid]\n",
    "            high -= 1\n",
    "\n",
    "     \n",
    "\n",
    "nums = [2, 0, 2, 1, 1, 0]\n",
    "sortColors(nums)\n",
    "print(nums)"
   ]
  },
  {
   "cell_type": "code",
   "execution_count": 6,
   "id": "f6660238-17f3-4786-9f8c-057fa197466b",
   "metadata": {},
   "outputs": [
    {
     "name": "stdout",
     "output_type": "stream",
     "text": [
      "1\n"
     ]
    }
   ],
   "source": [
    "#Ans 3\n",
    "def isBadVersion(n):\n",
    "  if n >=bad:\n",
    "    return False\n",
    "  else:\n",
    "    return True\n",
    "     \n",
    "\n",
    "def firstBadVersion(n, bad):\n",
    "    left = 1\n",
    "    right = n\n",
    "\n",
    "    while left <= right:\n",
    "        mid = left + (right - left) // 2\n",
    "        if isBadVersion(mid):\n",
    "            right = mid - 1\n",
    "        else:\n",
    "            left = mid + 1\n",
    "\n",
    "    return left\n",
    "     \n",
    "\n",
    "n = 5\n",
    "bad = 4\n",
    "result = firstBadVersion(n,bad)\n",
    "print(result)"
   ]
  },
  {
   "cell_type": "code",
   "execution_count": 7,
   "id": "107f70e3-557c-47f2-b403-9e25bd8b3f27",
   "metadata": {},
   "outputs": [
    {
     "name": "stdout",
     "output_type": "stream",
     "text": [
      "3\n"
     ]
    }
   ],
   "source": [
    "#Ans4\n",
    "def maximumGap(nums):\n",
    "    if len(nums) < 2:\n",
    "        return 0\n",
    "\n",
    "    # Radix sort implementation\n",
    "    def radixSort(nums):\n",
    "        max_num = max(nums)\n",
    "        exp = 1\n",
    "\n",
    "        while max_num // exp > 0:\n",
    "            count = [0] * 10\n",
    "            output = [0] * len(nums)\n",
    "\n",
    "            for num in nums:\n",
    "                count[(num // exp) % 10] += 1\n",
    "\n",
    "            for i in range(1, 10):\n",
    "                count[i] += count[i - 1]\n",
    "\n",
    "            for i in range(len(nums) - 1, -1, -1):\n",
    "                digit = (nums[i] // exp) % 10\n",
    "                output[count[digit] - 1] = nums[i]\n",
    "                count[digit] -= 1\n",
    "\n",
    "            for i in range(len(nums)):\n",
    "                nums[i] = output[i]\n",
    "\n",
    "            exp *= 10\n",
    "\n",
    "    radixSort(nums)\n",
    "\n",
    "    max_diff = 0\n",
    "    for i in range(1, len(nums)):\n",
    "        diff = nums[i] - nums[i - 1]\n",
    "        max_diff = max(max_diff, diff)\n",
    "\n",
    "    return max_diff\n",
    "     \n",
    "\n",
    "nums = [3, 6, 9, 1]\n",
    "result = maximumGap(nums)\n",
    "print(result)"
   ]
  },
  {
   "cell_type": "code",
   "execution_count": 8,
   "id": "82c0c9f0-2383-441a-a1c3-ec227301cd7e",
   "metadata": {},
   "outputs": [
    {
     "name": "stdout",
     "output_type": "stream",
     "text": [
      "True\n"
     ]
    }
   ],
   "source": [
    "#Ans5\n",
    "\n",
    "def containsDuplicate(nums):\n",
    "    unique_nums = set()\n",
    "\n",
    "    for num in nums:\n",
    "        if num in unique_nums:\n",
    "            return True\n",
    "        unique_nums.add(num)\n",
    "\n",
    "    return False\n",
    "     \n",
    "\n",
    "nums = [1, 2, 3, 1]\n",
    "result = containsDuplicate(nums)\n",
    "print(result)"
   ]
  },
  {
   "cell_type": "code",
   "execution_count": 9,
   "id": "05c5298b-d848-456d-99ef-c91cef421f4b",
   "metadata": {},
   "outputs": [
    {
     "name": "stdout",
     "output_type": "stream",
     "text": [
      "2\n"
     ]
    }
   ],
   "source": [
    "#Ans6\n",
    "def findMinArrowShots(points):\n",
    "    if not points:\n",
    "        return 0\n",
    "\n",
    "    # Sort the balloons' intervals based on the end points\n",
    "    points.sort(key=lambda x: x[1])\n",
    "\n",
    "    end = points[0][1]  # End point of the first balloon\n",
    "    arrows = 1\n",
    "\n",
    "    for i in range(1, len(points)):\n",
    "        if points[i][0] > end:\n",
    "            arrows += 1\n",
    "            end = points[i][1]\n",
    "\n",
    "    return arrows\n",
    "     \n",
    "\n",
    "points = [[10, 16], [2, 8], [1, 6], [7, 12]]\n",
    "result = findMinArrowShots(points)\n",
    "print(result)"
   ]
  },
  {
   "cell_type": "code",
   "execution_count": 10,
   "id": "c352e7ff-05b5-4404-b254-47db89d1fc44",
   "metadata": {},
   "outputs": [
    {
     "name": "stdout",
     "output_type": "stream",
     "text": [
      "4\n"
     ]
    }
   ],
   "source": [
    "#Ans7\n",
    "def lengthOfLIS(nums):\n",
    "    if not nums:\n",
    "        return 0\n",
    "\n",
    "    n = len(nums)\n",
    "    dp = [1] * n\n",
    "\n",
    "    for i in range(1, n):\n",
    "        for j in range(i):\n",
    "            if nums[i] > nums[j]:\n",
    "                dp[i] = max(dp[i], dp[j] + 1)\n",
    "\n",
    "    return max(dp)\n",
    "     \n",
    "\n",
    "nums = [10, 9, 2, 5, 3, 7, 101, 18]\n",
    "result = lengthOfLIS(nums)\n",
    "print(result)"
   ]
  },
  {
   "cell_type": "code",
   "execution_count": 11,
   "id": "b5734d13-7d93-435d-86b6-1383e6ef754c",
   "metadata": {},
   "outputs": [
    {
     "name": "stdout",
     "output_type": "stream",
     "text": [
      "False\n"
     ]
    }
   ],
   "source": [
    "#Ans8\n",
    "\n",
    "def find132pattern(nums):\n",
    "    stack = []\n",
    "    s3 = None\n",
    "    n = len(nums)\n",
    "\n",
    "    for i in range(n - 1, -1, -1):\n",
    "        if s3 is not None and nums[i] < s3:\n",
    "            return True\n",
    "        while stack and nums[i] > stack[-1]:\n",
    "            s3 = max(s3, stack.pop())\n",
    "        stack.append(nums[i])\n",
    "\n",
    "    return False\n",
    "     \n",
    "\n",
    "nums = [1, 2, 3, 4]\n",
    "result = find132pattern(nums)\n",
    "print(result)"
   ]
  }
 ],
 "metadata": {
  "kernelspec": {
   "display_name": "Python 3 (ipykernel)",
   "language": "python",
   "name": "python3"
  },
  "language_info": {
   "codemirror_mode": {
    "name": "ipython",
    "version": 3
   },
   "file_extension": ".py",
   "mimetype": "text/x-python",
   "name": "python",
   "nbconvert_exporter": "python",
   "pygments_lexer": "ipython3",
   "version": "3.10.6"
  }
 },
 "nbformat": 4,
 "nbformat_minor": 5
}
