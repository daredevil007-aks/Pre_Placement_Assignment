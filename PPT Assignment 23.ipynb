{
 "cells": [
  {
   "cell_type": "code",
   "execution_count": 34,
   "id": "04ee0336-2e52-4ac0-b5fd-76295ff3d5e0",
   "metadata": {},
   "outputs": [
    {
     "name": "stdout",
     "output_type": "stream",
     "text": [
      "Input:  nlnll\n",
      "Output: 1\n"
     ]
    }
   ],
   "source": [
    "#Ans1\n",
    "def calculateDepth(preorder):\n",
    "    depth = 0\n",
    "    max_depth = 0\n",
    "\n",
    "    for ch in preorder:\n",
    "        if ch == 'n':\n",
    "            depth += 1\n",
    "        elif ch == 'l':\n",
    "            max_depth = max(max_depth, depth)\n",
    "            depth = 0\n",
    "\n",
    "    return max_depth\n",
    "     \n",
    "\n",
    "preorder = 'nlnll'\n",
    "print(\"Input: \", preorder)\n",
    "print(\"Output:\", calculateDepth(preorder))"
   ]
  },
  {
   "cell_type": "code",
   "execution_count": 35,
   "id": "45b5bc80-0e74-4b9b-bf70-a948c3bd2526",
   "metadata": {},
   "outputs": [
    {
     "name": "stdout",
     "output_type": "stream",
     "text": [
      "Left view:\n",
      "4 5 3 6 \n"
     ]
    }
   ],
   "source": [
    "#Ans2\n",
    "\n",
    "from collections import deque\n",
    "\n",
    "# Definition of a binary tree node\n",
    "class TreeNode:\n",
    "    def __init__(self, val):\n",
    "        self.val = val\n",
    "        self.left = None\n",
    "        self.right = None\n",
    "\n",
    "def leftView(root):\n",
    "    if not root:\n",
    "        return\n",
    "\n",
    "    queue = deque()\n",
    "    queue.append(root)\n",
    "\n",
    "    while queue:\n",
    "        size = len(queue)\n",
    "        is_leftmost = True\n",
    "\n",
    "        for i in range(size):\n",
    "            node = queue.popleft()\n",
    "\n",
    "            if is_leftmost:\n",
    "                print(node.val, end=' ')\n",
    "                is_leftmost = False\n",
    "\n",
    "            if node.left:\n",
    "                queue.append(node.left)\n",
    "            if node.right:\n",
    "                queue.append(node.right)\n",
    "\n",
    "    print()\n",
    "\n",
    "\n",
    "     \n",
    "\n",
    "root = TreeNode(4)\n",
    "root.left = TreeNode(5)\n",
    "root.right = TreeNode(2)\n",
    "root.right.left = TreeNode(3)\n",
    "root.right.right = TreeNode(1)\n",
    "root.right.left.left = TreeNode(6)\n",
    "root.right.left.right = TreeNode(7)\n",
    "\n",
    "\n",
    "print(\"Left view:\")\n",
    "leftView(root)"
   ]
  },
  {
   "cell_type": "code",
   "execution_count": 36,
   "id": "4070a518-f9f8-4940-9315-74635939afa2",
   "metadata": {},
   "outputs": [
    {
     "name": "stdout",
     "output_type": "stream",
     "text": [
      "Right view:\n",
      "1 3 7 8 \n"
     ]
    }
   ],
   "source": [
    "#Ans3\n",
    "\n",
    "from collections import deque\n",
    "\n",
    "# Definition of a binary tree node\n",
    "class TreeNode:\n",
    "    def __init__(self, val):\n",
    "        self.val = val\n",
    "        self.left = None\n",
    "        self.right = None\n",
    "\n",
    "def rightView(root):\n",
    "    if not root:\n",
    "        return\n",
    "\n",
    "    queue = deque()\n",
    "    queue.append(root)\n",
    "\n",
    "    while queue:\n",
    "        size = len(queue)\n",
    "        rightmost = None\n",
    "\n",
    "        for i in range(size):\n",
    "            node = queue.popleft()\n",
    "\n",
    "            if i == size - 1:\n",
    "                rightmost = node.val\n",
    "\n",
    "            if node.left:\n",
    "                queue.append(node.left)\n",
    "            if node.right:\n",
    "                queue.append(node.right)\n",
    "\n",
    "        if rightmost is not None:\n",
    "            print(rightmost, end=' ')\n",
    "\n",
    "    print()\n",
    "     \n",
    "\n",
    "root = TreeNode(1)\n",
    "root.left = TreeNode(2)\n",
    "root.right = TreeNode(3)\n",
    "root.left.left = TreeNode(4)\n",
    "root.left.right = TreeNode(5)\n",
    "root.right.left = TreeNode(6)\n",
    "root.right.right = TreeNode(7)\n",
    "root.right.right.right = TreeNode(8)\n",
    "\n",
    "\n",
    "print(\"Right view:\")\n",
    "rightView(root)"
   ]
  },
  {
   "cell_type": "code",
   "execution_count": 37,
   "id": "35c79e85-a662-4d49-b9ff-bb86c20107c4",
   "metadata": {},
   "outputs": [
    {
     "name": "stdout",
     "output_type": "stream",
     "text": [
      "Bottom view:\n",
      "5 10 3 14 25 \n"
     ]
    }
   ],
   "source": [
    "#Ans4\n",
    "\n",
    "from collections import deque\n",
    "\n",
    "class TreeNode:\n",
    "    def __init__(self, val):\n",
    "        self.val = val\n",
    "        self.left = None\n",
    "        self.right = None\n",
    "\n",
    "def bottomView(root):\n",
    "    if not root:\n",
    "        return\n",
    "\n",
    "\n",
    "    horizontal_distance = {}\n",
    "\n",
    "    queue = deque()\n",
    "    queue.append((root, 0))\n",
    "\n",
    "    while queue:\n",
    "        node, hd = queue.popleft()\n",
    "\n",
    "\n",
    "        horizontal_distance[hd] = node.val\n",
    "\n",
    "        if node.left:\n",
    "            queue.append((node.left, hd - 1))\n",
    "        if node.right:\n",
    "            queue.append((node.right, hd + 1))\n",
    "\n",
    "    # Sort the dictionary by horizontal distance\n",
    "    sorted_hd = sorted(horizontal_distance.keys())\n",
    "\n",
    "    # Print the values of the nodes in the bottom view\n",
    "    print(\"Bottom view:\")\n",
    "    for hd in sorted_hd:\n",
    "        print(horizontal_distance[hd], end=' ')\n",
    "\n",
    "    print()\n",
    "     \n",
    "\n",
    "root = TreeNode(20)\n",
    "root.left = TreeNode(8)\n",
    "root.right = TreeNode(22)\n",
    "root.left.left = TreeNode(5)\n",
    "root.left.right = TreeNode(3)\n",
    "root.right.right = TreeNode(25)\n",
    "root.left.right.left = TreeNode(10)\n",
    "root.left.right.right = TreeNode(14)\n",
    "\n",
    "# Print the bottom view of the binary tree\n",
    "bottomView(root)\n"
   ]
  }
 ],
 "metadata": {
  "kernelspec": {
   "display_name": "Python 3 (ipykernel)",
   "language": "python",
   "name": "python3"
  },
  "language_info": {
   "codemirror_mode": {
    "name": "ipython",
    "version": 3
   },
   "file_extension": ".py",
   "mimetype": "text/x-python",
   "name": "python",
   "nbconvert_exporter": "python",
   "pygments_lexer": "ipython3",
   "version": "3.10.6"
  }
 },
 "nbformat": 4,
 "nbformat_minor": 5
}
