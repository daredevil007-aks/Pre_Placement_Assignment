{
 "cells": [
  {
   "cell_type": "code",
   "execution_count": 1,
   "id": "f1e281e3-c995-43a6-9034-13680604e93d",
   "metadata": {},
   "outputs": [
    {
     "data": {
      "text/plain": [
       "231"
      ]
     },
     "execution_count": 1,
     "metadata": {},
     "output_type": "execute_result"
    }
   ],
   "source": [
    "#Ans 1\n",
    "def minimumDeleteSum(s1, s2):\n",
    "    m, n = len(s1), len(s2)\n",
    "    dp = [[0] * (n+1) for _ in range(m+1)]\n",
    "\n",
    "    # Filling the table\n",
    "    for i in range(m-1, -1, -1):\n",
    "        dp[i][n] = dp[i+1][n] + ord(s1[i])\n",
    "    for j in range(n-1, -1, -1):\n",
    "        dp[m][j] = dp[m][j+1] + ord(s2[j])\n",
    "\n",
    "    for i in range(m-1, -1, -1):\n",
    "        for j in range(n-1, -1, -1):\n",
    "            if s1[i] == s2[j]:\n",
    "                dp[i][j] = dp[i+1][j+1]\n",
    "            else:\n",
    "                dp[i][j] = min(dp[i+1][j] + ord(s1[i]), dp[i][j+1] + ord(s2[j]))\n",
    "\n",
    "    return dp[0][0]\n",
    "s1 = \"sea\"\n",
    "s2 = \"eat\"\n",
    "minimumDeleteSum(s1, s2)"
   ]
  },
  {
   "cell_type": "code",
   "execution_count": 2,
   "id": "1e7fced3-5693-4c3c-99dc-80fb9a166902",
   "metadata": {},
   "outputs": [
    {
     "data": {
      "text/plain": [
       "True"
      ]
     },
     "execution_count": 2,
     "metadata": {},
     "output_type": "execute_result"
    }
   ],
   "source": [
    "#Ans2\n",
    "def isValid(s):\n",
    "    stack = []\n",
    "    asterisks = []\n",
    "    for c in s:\n",
    "        if c == '(':\n",
    "            stack.append(c)\n",
    "        elif c == '*':\n",
    "            asterisks.append(c)\n",
    "        elif c == ')':\n",
    "            if stack:\n",
    "                stack.pop()\n",
    "            elif asterisks:\n",
    "                asterisks.pop()\n",
    "            else:\n",
    "                return False\n",
    "\n",
    "    while stack and asterisks:\n",
    "        if stack[-1] < asterisks[-1]:\n",
    "            stack.pop()\n",
    "            asterisks.pop()\n",
    "        else:\n",
    "            return False\n",
    "    return not stack\n",
    "s = \"()\"\n",
    "isValid(s)"
   ]
  },
  {
   "cell_type": "code",
   "execution_count": 3,
   "id": "d36558ee-4ad9-4508-8e10-44fde9ad4503",
   "metadata": {},
   "outputs": [
    {
     "data": {
      "text/plain": [
       "2"
      ]
     },
     "execution_count": 3,
     "metadata": {},
     "output_type": "execute_result"
    }
   ],
   "source": [
    "#ANs3 \n",
    "def minSteps(word1, word2):\n",
    "    m, n = len(word1), len(word2)\n",
    "    dp = [[0] * (n+1) for _ in range(m+1)]\n",
    "\n",
    "    for i in range(m+1):\n",
    "        dp[i][0] = i\n",
    "    for j in range(n+1):\n",
    "        dp[0][j] = j\n",
    "\n",
    "    for i in range(1, m+1):\n",
    "        for j in range(1, n+1):\n",
    "            if word1[i-1] == word2[j-1]:\n",
    "                dp[i][j] = dp[i-1][j-1]\n",
    "            else:\n",
    "                dp[i][j] = min(dp[i-1][j] + 1, dp[i][j-1] + 1)\n",
    "\n",
    "    return dp[m][n]\n",
    "word1 = \"sea\"\n",
    "word2 = \"eat\"\n",
    "minSteps(word1, word2)"
   ]
  },
  {
   "cell_type": "code",
   "execution_count": 4,
   "id": "d5462383-d509-460b-88b6-549a79c6db3a",
   "metadata": {},
   "outputs": [
    {
     "data": {
      "text/plain": [
       "[4]"
      ]
     },
     "execution_count": 4,
     "metadata": {},
     "output_type": "execute_result"
    }
   ],
   "source": [
    "#Ans 4\n",
    "s = \"4(2(3)(1))(6(5))\"\n",
    "class TreeNode:\n",
    "    def __init__(self, val=0, left=None, right=None):\n",
    "        self.val = val\n",
    "        self.left = left\n",
    "        self.right = right\n",
    "\n",
    "\n",
    "def constructTree(s, start, end):\n",
    "    if start > end:\n",
    "        return None\n",
    "\n",
    "    splitIndex = s.find('(', start, end + 1)\n",
    "    if splitIndex == -1:\n",
    "        val = int(s[start:end + 1])\n",
    "        return TreeNode(val)\n",
    "\n",
    "    closingIndex = s.find(')', splitIndex, end + 1)\n",
    "\n",
    "    if closingIndex == -1:\n",
    "        return constructTree(s, start + 1, end - 1)\n",
    "\n",
    "    left = constructTree(s, splitIndex + 1, closingIndex - 1)\n",
    "\n",
    "    right = None\n",
    "    if splitIndex + 1 < end and s[splitIndex + 1] == '(':\n",
    "        right = constructTree(s, closingIndex + 2, end - 1)\n",
    "\n",
    "    val = int(s[start:splitIndex])\n",
    "    return TreeNode(val, left, right)\n",
    "\n",
    "\n",
    "def buildTree(s):\n",
    "    root = constructTree(s, 0, len(s) - 1)\n",
    "    return preorderTraversal(root)\n",
    "\n",
    "\n",
    "def preorderTraversal(node):\n",
    "    result = []\n",
    "    if node:\n",
    "        result.append(node.val)\n",
    "        result.extend(preorderTraversal(node.left))\n",
    "        result.extend(preorderTraversal(node.right))\n",
    "    return result\n",
    "buildTree(s)"
   ]
  },
  {
   "cell_type": "code",
   "execution_count": 5,
   "id": "a816a7fa-bc88-4ad5-89ef-c5b55b614a53",
   "metadata": {},
   "outputs": [
    {
     "data": {
      "text/plain": [
       "6"
      ]
     },
     "execution_count": 5,
     "metadata": {},
     "output_type": "execute_result"
    }
   ],
   "source": [
    "#Ans 5\n",
    "chars = [\"a\",\"a\",\"b\",\"b\",\"c\",\"c\",\"c\"]\n",
    "def compress(chars):\n",
    "    length = len(chars)\n",
    "    if length <= 1:\n",
    "        return length\n",
    "\n",
    "    count = 1  # Count of consecutive occurrences\n",
    "    write_idx = 0  # Position to write the compressed string\n",
    "\n",
    "    for i in range(1, length):\n",
    "        if chars[i] == chars[i-1]:\n",
    "            count += 1\n",
    "        else:\n",
    "            chars[write_idx] = chars[i-1]\n",
    "            write_idx += 1\n",
    "\n",
    "            if count > 1:\n",
    "                count_str = str(count)\n",
    "                for j in range(len(count_str)):\n",
    "                    chars[write_idx] = count_str[j]\n",
    "                    write_idx += 1\n",
    "\n",
    "            count = 1\n",
    "\n",
    "    chars[write_idx] = chars[length-1]\n",
    "    write_idx += 1\n",
    "\n",
    "    if count > 1:\n",
    "        count_str = str(count)\n",
    "        for j in range(len(count_str)):\n",
    "            chars[write_idx] = count_str[j]\n",
    "            write_idx += 1\n",
    "\n",
    "    return write_idx\n",
    "\n",
    "\n",
    "compress(chars)"
   ]
  },
  {
   "cell_type": "code",
   "execution_count": 6,
   "id": "014b7855-2b54-40b3-ad31-8298d059584b",
   "metadata": {},
   "outputs": [
    {
     "data": {
      "text/plain": [
       "[0, 6]"
      ]
     },
     "execution_count": 6,
     "metadata": {},
     "output_type": "execute_result"
    }
   ],
   "source": [
    "#ANs 6\n",
    "s = \"cbaebabacd\"\n",
    "p = \"abc\"\n",
    "from collections import Counter\n",
    "\n",
    "def findAnagrams(s, p):\n",
    "    result = []\n",
    "    len_s, len_p = len(s), len(p)\n",
    "    freq_p = Counter(p)\n",
    "    freq_window = Counter()\n",
    "\n",
    "    left, right = 0, 0\n",
    "    match = 0\n",
    "\n",
    "    while right < len_s:\n",
    "        freq_window[s[right]] += 1\n",
    "\n",
    "        if s[right] in freq_p and freq_window[s[right]] == freq_p[s[right]]:\n",
    "            match += 1\n",
    "\n",
    "        if right - left + 1 == len_p:\n",
    "            if match == len(freq_p):\n",
    "                result.append(left)\n",
    "\n",
    "            freq_window[s[left]] -= 1\n",
    "            if s[left] in freq_p and freq_window[s[left]] < freq_p[s[left]]:\n",
    "                match -= 1\n",
    "\n",
    "            left += 1\n",
    "\n",
    "        right += 1\n",
    "\n",
    "    return result\n",
    "findAnagrams(s, p)"
   ]
  },
  {
   "cell_type": "code",
   "execution_count": 7,
   "id": "fded5b21-02b5-4403-879f-4cf9de3d1344",
   "metadata": {},
   "outputs": [
    {
     "data": {
      "text/plain": [
       "'aaabcbc'"
      ]
     },
     "execution_count": 7,
     "metadata": {},
     "output_type": "execute_result"
    }
   ],
   "source": [
    "#Ans 7\n",
    "s = \"3[a]2[bc]\"\n",
    "def decodeString(s):\n",
    "    stack = []\n",
    "    curr_num = 0\n",
    "    curr_str = ''\n",
    "\n",
    "    for char in s:\n",
    "        if char.isdigit():\n",
    "            curr_num = curr_num * 10 + int(char)\n",
    "        elif char == '[':\n",
    "            stack.append((curr_num, curr_str))\n",
    "            curr_num = 0\n",
    "            curr_str = ''\n",
    "        elif char == ']':\n",
    "            prev_num, prev_str = stack.pop()\n",
    "            curr_str = prev_str + curr_str * prev_num\n",
    "        else:\n",
    "            curr_str += char\n",
    "\n",
    "    return curr_str\n",
    "decodeString(s)"
   ]
  },
  {
   "cell_type": "code",
   "execution_count": 8,
   "id": "4f18d502-b7e6-4f48-bf62-5ff2468acb93",
   "metadata": {},
   "outputs": [
    {
     "data": {
      "text/plain": [
       "True"
      ]
     },
     "execution_count": 8,
     "metadata": {},
     "output_type": "execute_result"
    }
   ],
   "source": [
    "#Ans 8\n",
    "s = \"ab\"\n",
    "goal = \"ba\"\n",
    "def buddyStrings(s, goal):\n",
    "    if len(s) != len(goal):\n",
    "        return False\n",
    "\n",
    "    if s == goal:\n",
    "        freq = [0] * 26\n",
    "        for char in s:\n",
    "            freq[ord(char) - ord('a')] += 1\n",
    "        return any(count >= 2 for count in freq)\n",
    "\n",
    "    diff_s = []\n",
    "    diff_goal = []\n",
    "\n",
    "    for i in range(len(s)):\n",
    "        if s[i] != goal[i]:\n",
    "            diff_s.append(s[i])\n",
    "            diff_goal.append(goal[i])\n",
    "            if len(diff_s) > 2:\n",
    "                return False\n",
    "\n",
    "    return len(diff_s) == 2 and diff_s[0] == diff_goal[1] and diff_s[1] == diff_goal[0]\n",
    "buddyStrings(s,goal)"
   ]
  }
 ],
 "metadata": {
  "kernelspec": {
   "display_name": "Python 3 (ipykernel)",
   "language": "python",
   "name": "python3"
  },
  "language_info": {
   "codemirror_mode": {
    "name": "ipython",
    "version": 3
   },
   "file_extension": ".py",
   "mimetype": "text/x-python",
   "name": "python",
   "nbconvert_exporter": "python",
   "pygments_lexer": "ipython3",
   "version": "3.10.6"
  }
 },
 "nbformat": 4,
 "nbformat_minor": 5
}
