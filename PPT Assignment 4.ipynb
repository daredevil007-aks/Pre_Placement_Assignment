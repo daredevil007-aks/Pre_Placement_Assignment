{
 "cells": [
  {
   "cell_type": "code",
   "execution_count": 1,
   "id": "1285eea0",
   "metadata": {},
   "outputs": [
    {
     "name": "stdout",
     "output_type": "stream",
     "text": [
      "1\n",
      "5\n"
     ]
    }
   ],
   "source": [
    "#Ans1 \n",
    "def count(arr1,arr2,arr3):\n",
    "    for i in arr1:\n",
    "        if i in arr2 and i in arr3:\n",
    "            print(i)\n",
    "            \n",
    "count([1,2,3,4,5],[1,2,5,7,9],[1,3,4,5,8])"
   ]
  },
  {
   "cell_type": "code",
   "execution_count": 2,
   "id": "4d500487",
   "metadata": {},
   "outputs": [
    {
     "name": "stdout",
     "output_type": "stream",
     "text": [
      "[[1, 3], [4, 6]]\n"
     ]
    }
   ],
   "source": [
    "#Ans2\n",
    "\n",
    "def lis(nums1,nums2):\n",
    "    diff_1 = []\n",
    "    diff_2 = []\n",
    "\n",
    "    for i in nums1:\n",
    "        if i not in nums2:\n",
    "            diff_1.append(i)\n",
    "    for j in nums2:\n",
    "        if j not in nums1:\n",
    "            diff_2.append(j)\n",
    "    result = list([diff_1]+[diff_2])\n",
    "    print(result)\n",
    "    \n",
    "lis([1,2,3],[2,4,6])"
   ]
  },
  {
   "cell_type": "code",
   "execution_count": 3,
   "id": "dd543251",
   "metadata": {},
   "outputs": [
    {
     "data": {
      "text/plain": [
       "[[1, 4, 7], [2, 5, 8], [3, 6, 9]]"
      ]
     },
     "execution_count": 3,
     "metadata": {},
     "output_type": "execute_result"
    }
   ],
   "source": [
    "#Ans3\n",
    "def transpose(matrix):\n",
    "    rows = len(matrix)\n",
    "    cols = len(matrix[0])\n",
    "\n",
    "    transpose = []\n",
    "\n",
    "    for colIndex in range(cols):\n",
    "        row = []\n",
    "        for rowIndex in range(rows):\n",
    "            row.append(matrix[rowIndex][colIndex])\n",
    "        transpose.append(row)\n",
    "\n",
    "    return transpose\n",
    "transpose([[1,2,3],[4,5,6],[7,8,9]])"
   ]
  },
  {
   "cell_type": "code",
   "execution_count": 5,
   "id": "fe22d103",
   "metadata": {},
   "outputs": [
    {
     "data": {
      "text/plain": [
       "3"
      ]
     },
     "execution_count": 5,
     "metadata": {},
     "output_type": "execute_result"
    }
   ],
   "source": [
    "#Ans 4\n",
    "def turn(nums):\n",
    "    num_1 = []\n",
    "    num_2 = []\n",
    "    for i in range(0,2):\n",
    "        num_1.append(nums[i])\n",
    "    for j in range(2,len(nums)):\n",
    "        num_2.append(nums[j])\n",
    "    result = min(num_1) + min(num_2)\n",
    "    return result\n",
    "\n",
    "turn([1,4,3,2])"
   ]
  },
  {
   "cell_type": "code",
   "execution_count": 9,
   "id": "cea3159d",
   "metadata": {},
   "outputs": [
    {
     "data": {
      "text/plain": [
       "2"
      ]
     },
     "execution_count": 9,
     "metadata": {},
     "output_type": "execute_result"
    }
   ],
   "source": [
    "#Ans5\n",
    "def arrangeCoins(n):\n",
    "    left = 0\n",
    "    right = n\n",
    "\n",
    "    while left <= right:\n",
    "        mid = (left + right) // 2\n",
    "        total_coins = (mid * (mid + 1)) // 2\n",
    "\n",
    "        if total_coins <= n:\n",
    "            left = mid + 1\n",
    "        else:\n",
    "            right = mid - 1\n",
    "\n",
    "    return right\n",
    "\n",
    "arrangeCoins(5)"
   ]
  },
  {
   "cell_type": "code",
   "execution_count": 12,
   "id": "78a10cd5",
   "metadata": {},
   "outputs": [
    {
     "data": {
      "text/plain": [
       "[0, 1, 9, 16, 100]"
      ]
     },
     "execution_count": 12,
     "metadata": {},
     "output_type": "execute_result"
    }
   ],
   "source": [
    "#Ans6\n",
    "\n",
    "nums =[-4,-1,0,3,10]\n",
    "final = []\n",
    "for i in nums:\n",
    "    sqaures = i*i\n",
    "    final.append(sqaures)\n",
    "final.sort()\n",
    "final\n"
   ]
  },
  {
   "cell_type": "code",
   "execution_count": 14,
   "id": "578031e2",
   "metadata": {},
   "outputs": [
    {
     "data": {
      "text/plain": [
       "4"
      ]
     },
     "execution_count": 14,
     "metadata": {},
     "output_type": "execute_result"
    }
   ],
   "source": [
    "#Ans 7\n",
    "def maxCount(m, n, ops):\n",
    "    min_row = m\n",
    "    min_col = n\n",
    "\n",
    "    for op in ops:\n",
    "        min_row = min(min_row, op[0])\n",
    "        min_col = min(min_col, op[1])\n",
    "\n",
    "    return min_row * min_col\n",
    "\n",
    "maxCount(3,3,[[2,2],[3,3]])"
   ]
  },
  {
   "cell_type": "code",
   "execution_count": 16,
   "id": "0bb12dc0",
   "metadata": {},
   "outputs": [
    {
     "data": {
      "text/plain": [
       "[2, 3, 5, 4, 1, 7]"
      ]
     },
     "execution_count": 16,
     "metadata": {},
     "output_type": "execute_result"
    }
   ],
   "source": [
    "#Ans 8\n",
    "def shuffle(nums, n):\n",
    "    result = []\n",
    "    for i in range(n):\n",
    "        result.append(nums[i])\n",
    "        result.append(nums[i+n])\n",
    "    return result\n",
    "\n",
    "shuffle([2,5,1,3,4,7],3)"
   ]
  }
 ],
 "metadata": {
  "kernelspec": {
   "display_name": "Python 3 (ipykernel)",
   "language": "python",
   "name": "python3"
  },
  "language_info": {
   "codemirror_mode": {
    "name": "ipython",
    "version": 3
   },
   "file_extension": ".py",
   "mimetype": "text/x-python",
   "name": "python",
   "nbconvert_exporter": "python",
   "pygments_lexer": "ipython3",
   "version": "3.9.12"
  }
 },
 "nbformat": 4,
 "nbformat_minor": 5
}
