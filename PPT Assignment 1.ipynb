{
 "cells": [
  {
   "cell_type": "code",
   "execution_count": 3,
   "id": "c5ec15dc",
   "metadata": {},
   "outputs": [
    {
     "name": "stdout",
     "output_type": "stream",
     "text": [
      "[0, 1]\n"
     ]
    }
   ],
   "source": [
    "#Ans1\n",
    "class solution:\n",
    "    def twosum(self, nums, target):\n",
    "        h = {}\n",
    "        for i, num in enumerate(nums):\n",
    "            n = target -num\n",
    "            if n not in h:\n",
    "                h[num] = i\n",
    "            else:\n",
    "                return [h[n], i]\n",
    "solution = solution()\n",
    "nums= [2,7,11,15]\n",
    "target = 9\n",
    "result = solution.twosum(nums, target)\n",
    "print(result)\n",
    "            \n",
    "            "
   ]
  },
  {
   "cell_type": "code",
   "execution_count": 4,
   "id": "9123f854",
   "metadata": {},
   "outputs": [
    {
     "name": "stdout",
     "output_type": "stream",
     "text": [
      "[2, 2]\n"
     ]
    }
   ],
   "source": [
    "#Ans2\n",
    "class Solution:\n",
    "    def remove_element(self, nums, val):\n",
    "        i = 0\n",
    "        for x in nums:\n",
    "            if x != val:\n",
    "                nums[i] =x \n",
    "                i += 1\n",
    "        return i\n",
    "    \n",
    "solution = Solution()\n",
    "\n",
    "nums = [3,2,2,3]\n",
    "val = 3\n",
    "result = solution.remove_element(nums, val)\n",
    "print(nums[:result])"
   ]
  },
  {
   "cell_type": "code",
   "execution_count": 7,
   "id": "c3f80f6f",
   "metadata": {},
   "outputs": [
    {
     "name": "stdout",
     "output_type": "stream",
     "text": [
      "2\n"
     ]
    }
   ],
   "source": [
    "#Ans3\n",
    "class Solution:\n",
    "    def searchInsert(self, nums, target):\n",
    "        l, r = 0, len(nums) - 1\n",
    "        while l <= r:\n",
    "            mid = l + (r - l) // 2\n",
    "            if nums[mid] >= target: \n",
    "                r = mid - 1\n",
    "            else: \n",
    "                l = mid + 1\n",
    "        return l\n",
    "    \n",
    "    \n",
    "solution = Solution()\n",
    "\n",
    "nums = [1, 3, 5, 6]\n",
    "target = 5 \n",
    "result = solution.searchInsert(nums, target)\n",
    "print(result)"
   ]
  },
  {
   "cell_type": "code",
   "execution_count": 6,
   "id": "79c7a4f9",
   "metadata": {},
   "outputs": [
    {
     "name": "stdout",
     "output_type": "stream",
     "text": [
      "[1, 2, 4]\n"
     ]
    }
   ],
   "source": [
    "#ANs4\n",
    "class Solution:\n",
    "    def plusOne(self, digits):\n",
    "        if digits[-1] == 9:\n",
    "            if len(digits) == 1:  \n",
    "                return [1, 0]\n",
    "            return self.plusOne(digits[:-1]) + [0]\n",
    "        else:\n",
    "            digits[-1] += 1\n",
    "        return digits\n",
    "    \n",
    "\n",
    "solution = Solution()\n",
    "\n",
    "digits = [1, 2, 3]\n",
    "result = solution.plusOne(digits)\n",
    "print(result)"
   ]
  },
  {
   "cell_type": "code",
   "execution_count": 5,
   "id": "85584a0a",
   "metadata": {},
   "outputs": [
    {
     "name": "stdout",
     "output_type": "stream",
     "text": [
      "[1, 2, 2, 3, 5, 6]\n"
     ]
    }
   ],
   "source": [
    "#Ans5\n",
    "class Solution:\n",
    "    def merge(self, nums1, m, nums2, n):\n",
    "        \"\"\"\n",
    "        Do not return anything, modify nums1 in-place instead.\n",
    "        \"\"\"\n",
    "        while n > 0:\n",
    "            if m <= 0 or nums2[n-1] >= nums1[m-1]:  \n",
    "                nums1[m+n-1] = nums2[n-1]\n",
    "                n -= 1\n",
    "            else:\n",
    "                nums1[m+n-1] = nums1[m-1]\n",
    "                m -= 1\n",
    "                \n",
    "                \n",
    "solution = Solution()\n",
    "\n",
    "nums1 = [1, 2, 3, 0, 0, 0]\n",
    "m = 3\n",
    "nums2 = [2, 5, 6]\n",
    "n = 3\n",
    "solution.merge(nums1, m, nums2, n)\n",
    "print(nums1) "
   ]
  },
  {
   "cell_type": "code",
   "execution_count": 8,
   "id": "a46667c9",
   "metadata": {},
   "outputs": [
    {
     "name": "stdout",
     "output_type": "stream",
     "text": [
      "True\n"
     ]
    }
   ],
   "source": [
    "#Ans 6\n",
    "class Solution:\n",
    "    def containsDuplicate(self, nums):\n",
    "        hset = set()\n",
    "        for idx in nums:\n",
    "            if idx in hset:\n",
    "                return True\n",
    "            else:\n",
    "                hset.add(idx)\n",
    "                \n",
    "\n",
    "solution = Solution()\n",
    "\n",
    "nums = [1, 2, 3, 1]\n",
    "print(solution.containsDuplicate(nums))"
   ]
  },
  {
   "cell_type": "code",
   "execution_count": 9,
   "id": "810aeae6",
   "metadata": {},
   "outputs": [
    {
     "name": "stdout",
     "output_type": "stream",
     "text": [
      "[1, 3, 12, 0, 0]\n"
     ]
    }
   ],
   "source": [
    "#Ans7\n",
    "class Solution:\n",
    "    def moveZeroes(self, nums):\n",
    "        \"\"\"\n",
    "        Do not return anything, modify nums in-place instead.\n",
    "        \"\"\"\n",
    "        anchor = 0\n",
    "        for explorer in range(len(nums)):\n",
    "            if nums[explorer] != 0:\n",
    "                nums[anchor], nums[explorer] = nums[explorer], nums[anchor]\n",
    "                anchor += 1\n",
    "                \n",
    "                \n",
    "solution = Solution()\n",
    "\n",
    "nums = [0, 1, 0, 3, 12]\n",
    "solution.moveZeroes(nums)\n",
    "print(nums)"
   ]
  },
  {
   "cell_type": "code",
   "execution_count": 10,
   "id": "cbe08dec",
   "metadata": {},
   "outputs": [
    {
     "name": "stdout",
     "output_type": "stream",
     "text": [
      "[2, 3]\n"
     ]
    }
   ],
   "source": [
    "#Ans8\n",
    "class Solution:\n",
    "    def findErrorNums(self, nums):\n",
    "        return [sum(nums) - sum(set(nums)), len(nums)*(len(nums)+1)//2 - sum(set(nums))]\n",
    "    \n",
    "    \n",
    "solution = Solution()\n",
    "\n",
    "nums = [1, 2, 2, 4]\n",
    "result = solution.findErrorNums(nums)\n",
    "print(result)"
   ]
  }
 ],
 "metadata": {
  "kernelspec": {
   "display_name": "Python 3 (ipykernel)",
   "language": "python",
   "name": "python3"
  },
  "language_info": {
   "codemirror_mode": {
    "name": "ipython",
    "version": 3
   },
   "file_extension": ".py",
   "mimetype": "text/x-python",
   "name": "python",
   "nbconvert_exporter": "python",
   "pygments_lexer": "ipython3",
   "version": "3.9.12"
  }
 },
 "nbformat": 4,
 "nbformat_minor": 5
}
