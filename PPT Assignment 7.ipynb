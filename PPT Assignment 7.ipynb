{
 "cells": [
  {
   "cell_type": "code",
   "execution_count": 2,
   "id": "2b381a14-77a3-471e-be2e-863803781681",
   "metadata": {},
   "outputs": [
    {
     "data": {
      "text/plain": [
       "True"
      ]
     },
     "execution_count": 2,
     "metadata": {},
     "output_type": "execute_result"
    }
   ],
   "source": [
    "#Ans 1\n",
    "def isIsomorphic(s, t):\n",
    "    s_to_t = {}\n",
    "    t_to_s = {}\n",
    "\n",
    "    for s_char, t_char in zip(s, t):\n",
    "        if s_char not in s_to_t and t_char not in t_to_s:\n",
    "            s_to_t[s_char] = t_char\n",
    "            t_to_s[t_char] = s_char\n",
    "        elif s_char in s_to_t and t_char in t_to_s:\n",
    "            if s_to_t[s_char] != t_char or t_to_s[t_char] != s_char:\n",
    "                return False\n",
    "        else:\n",
    "            return False\n",
    "\n",
    "    return True\n",
    "\n",
    "isIsomorphic(\"egg\",\"add\")"
   ]
  },
  {
   "cell_type": "code",
   "execution_count": 5,
   "id": "1297e225-81f8-4998-862c-482748f3867a",
   "metadata": {},
   "outputs": [
    {
     "data": {
      "text/plain": [
       "True"
      ]
     },
     "execution_count": 5,
     "metadata": {},
     "output_type": "execute_result"
    }
   ],
   "source": [
    "#Ans 2\n",
    "\n",
    "def grammitic(num):\n",
    "    mapping={'0': '0', '1': '1', '6': '9', '8': '8', '9': '6'}\n",
    "    left=0\n",
    "    right=len(num)-1\n",
    "    while left<=right:\n",
    "        if num[right] not in mapping or mapping[num[left]] !=num[right]:\n",
    "            return False\n",
    "        left +=1\n",
    "        right -=1\n",
    "        \n",
    "        return True\n",
    "    \n",
    "grammitic(\"69\")"
   ]
  },
  {
   "cell_type": "code",
   "execution_count": 11,
   "id": "595d08bb-7fab-468c-9505-9c11a3462476",
   "metadata": {},
   "outputs": [
    {
     "name": "stdout",
     "output_type": "stream",
     "text": [
      "134\n"
     ]
    }
   ],
   "source": [
    "#Ans 3\n",
    "\n",
    "def addStrings(num1, num2):\n",
    "    i = len(num1) - 1\n",
    "    j = len(num2) - 1\n",
    "    carry = 0\n",
    "    result = []\n",
    "\n",
    "    while i >= 0 or j >= 0 or carry > 0:\n",
    "        digit1 = int(num1[i]) if i >= 0 else 0\n",
    "        digit2 = int(num2[j]) if j >= 0 else 0\n",
    "        total = digit1 + digit2 + carry\n",
    "        digit = total % 10\n",
    "        carry = total // 10\n",
    "        result.append(str(digit))\n",
    "        i -= 1\n",
    "        j -= 1\n",
    "\n",
    "    result.reverse()\n",
    "    return ''.join(result)\n",
    "\n",
    "num1 = \"11\"\n",
    "num2 = \"123\"\n",
    "result = addStrings(num1, num2)\n",
    "print(result)"
   ]
  },
  {
   "cell_type": "code",
   "execution_count": 14,
   "id": "5329db30-98b9-4d83-9512-6b9c7fde53e2",
   "metadata": {},
   "outputs": [
    {
     "name": "stdout",
     "output_type": "stream",
     "text": [
      "s'teL ekat edoCteeL tsetnoc\n"
     ]
    }
   ],
   "source": [
    "#Ans 4\n",
    "\n",
    "def reverseWords(s):\n",
    "    words = s.split()\n",
    "\n",
    "    reversed_words = [word[::-1] for word in words]\n",
    "    reversed_sentence = ' '.join(reversed_words)\n",
    "\n",
    "    return reversed_sentence\n",
    "\n",
    "s = \"Let's take LeetCode contest\"\n",
    "reversed_sentence = reverseWords(s)\n",
    "print(reversed_sentence)"
   ]
  },
  {
   "cell_type": "code",
   "execution_count": 15,
   "id": "9bf6e682-be81-4d13-a5ff-28719aeb5de2",
   "metadata": {},
   "outputs": [
    {
     "name": "stdout",
     "output_type": "stream",
     "text": [
      "bacdfeg\n"
     ]
    }
   ],
   "source": [
    "#Ans 5\n",
    "\n",
    "def reverseStr(s, k):\n",
    "    chars = list(s)\n",
    "    \n",
    "    for i in range(0, len(chars), 2 * k):\n",
    "        chars[i:i+k] = chars[i:i+k][::-1]\n",
    "    reversed_str = ''.join(chars)\n",
    "    \n",
    "    return reversed_str\n",
    "\n",
    "s = \"abcdefg\"\n",
    "k = 2\n",
    "reversed_str = reverseStr(s, k)\n",
    "print(reversed_str)\n",
    "     "
   ]
  },
  {
   "cell_type": "code",
   "execution_count": 16,
   "id": "70c71aed-c157-4339-9d5a-bbee4220003a",
   "metadata": {},
   "outputs": [
    {
     "name": "stdout",
     "output_type": "stream",
     "text": [
      "True\n"
     ]
    }
   ],
   "source": [
    "#Ans 6\n",
    "def isShiftedString(s, goal):\n",
    "    return len(s) == len(goal) and goal in (s + s)\n",
    "\n",
    "\n",
    "s = \"abcde\"\n",
    "goal = \"cdeab\"\n",
    "result = isShiftedString(s, goal)\n",
    "print(result)"
   ]
  },
  {
   "cell_type": "code",
   "execution_count": 18,
   "id": "b22c3fdc-b2af-4d0f-b464-a4170a31546d",
   "metadata": {},
   "outputs": [
    {
     "name": "stdout",
     "output_type": "stream",
     "text": [
      "True\n"
     ]
    }
   ],
   "source": [
    "#Ans 7\n",
    "def isTypingEqual(s, t):\n",
    "    def processString(string):\n",
    "        stack = []\n",
    "        for char in string:\n",
    "            if char == '#':\n",
    "                if stack:\n",
    "                    stack.pop()\n",
    "            else:\n",
    "                stack.append(char)\n",
    "        return ''.join(stack)\n",
    "\n",
    "    return processString(s) == processString(t)\n",
    "\n",
    "\n",
    "s = \"ab#c\"\n",
    "t = \"ad#c\"\n",
    "result = isTypingEqual(s, t)\n",
    "print(result)"
   ]
  },
  {
   "cell_type": "code",
   "execution_count": 20,
   "id": "d81378de-d64c-4373-ada1-a9e8d8f1faae",
   "metadata": {},
   "outputs": [
    {
     "name": "stdout",
     "output_type": "stream",
     "text": [
      "True\n"
     ]
    }
   ],
   "source": [
    "#Ans 8\n",
    "def checkStraightLine(coordinates):\n",
    "    def calculateSlope(x1, y1, x2, y2):\n",
    "        if x2 - x1 == 0:\n",
    "            return float('inf')  \n",
    "        return (y2 - y1) / (x2 - x1)\n",
    "\n",
    "    x1, y1 = coordinates[0]\n",
    "    x2, y2 = coordinates[1]\n",
    "    expected_slope = calculateSlope(x1, y1, x2, y2)\n",
    "    for i in range(2, len(coordinates)):\n",
    "        x1, y1 = coordinates[i - 1]\n",
    "        x2, y2 = coordinates[i]\n",
    "        slope = calculateSlope(x1, y1, x2, y2)\n",
    "        if slope != expected_slope:\n",
    "            return False\n",
    "\n",
    "    return True\n",
    "\n",
    "\n",
    "coordinates = [[1,2],[2,3],[3,4],[4,5],[5,6],[6,7]]\n",
    "result = checkStraightLine(coordinates)\n",
    "print(result)"
   ]
  }
 ],
 "metadata": {
  "kernelspec": {
   "display_name": "Python 3 (ipykernel)",
   "language": "python",
   "name": "python3"
  },
  "language_info": {
   "codemirror_mode": {
    "name": "ipython",
    "version": 3
   },
   "file_extension": ".py",
   "mimetype": "text/x-python",
   "name": "python",
   "nbconvert_exporter": "python",
   "pygments_lexer": "ipython3",
   "version": "3.10.6"
  }
 },
 "nbformat": 4,
 "nbformat_minor": 5
}
